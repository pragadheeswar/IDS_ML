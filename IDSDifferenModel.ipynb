{
  "nbformat": 4,
  "nbformat_minor": 0,
  "metadata": {
    "colab": {
      "provenance": []
    },
    "kernelspec": {
      "name": "python3",
      "display_name": "Python 3"
    },
    "language_info": {
      "name": "python"
    }
  },
  "cells": [
    {
      "cell_type": "code",
      "execution_count": 111,
      "metadata": {
        "id": "V1YW9FtPET5Y"
      },
      "outputs": [],
      "source": [
        "import numpy as np\n",
        "import pandas as pd\n",
        "import matplotlib.pyplot as plt\n",
        "import seaborn as sns\n",
        "import warnings\n",
        "import statsmodels.api as sm\n",
        "from sklearn.preprocessing import LabelEncoder\n",
        "from sklearn.preprocessing import RobustScaler\n",
        "from sklearn.model_selection import train_test_split,GridSearchCV\n",
        "from sklearn.decomposition import PCA\n",
        "from sklearn.linear_model import LogisticRegression\n",
        "from sklearn.neighbors import KNeighborsClassifier\n",
        "from sklearn.tree  import DecisionTreeClassifier\n",
        "from sklearn.ensemble import RandomForestClassifier\n",
        "from sklearn import tree\n",
        "from sklearn import svm\n",
        "from sklearn.svm import SVC\n",
        "from sklearn.naive_bayes import GaussianNB\n",
        "from sklearn import metrics\n",
        "from sklearn.metrics import confusion_matrix\n",
        "from sklearn.model_selection import GridSearchCV\n",
        "from mlxtend.plotting import plot_confusion_matrix\n",
        "\n",
        "# Turn off the warnings.\n",
        "warnings.filterwarnings(action='ignore')\n",
        "%matplotlib inline"
      ]
    },
    {
      "cell_type": "code",
      "source": [
        "Trained_Data = pd.read_csv(\"KDDTrain+.txt\" )\n",
        "Tested_Data  = pd.read_csv(\"KDDTest+.txt\")"
      ],
      "metadata": {
        "id": "S9PN47wEEjht"
      },
      "execution_count": 112,
      "outputs": []
    },
    {
      "cell_type": "code",
      "source": [
        "Trained_Data.shape"
      ],
      "metadata": {
        "colab": {
          "base_uri": "https://localhost:8080/"
        },
        "id": "Z8BWvSRbTtlV",
        "outputId": "50a964f0-de0e-42b1-c5aa-5e293ad67c62"
      },
      "execution_count": 113,
      "outputs": [
        {
          "output_type": "execute_result",
          "data": {
            "text/plain": [
              "(125972, 43)"
            ]
          },
          "metadata": {},
          "execution_count": 113
        }
      ]
    },
    {
      "cell_type": "code",
      "source": [
        "Columns = (['duration','protocol_type','service','flag','src_bytes','dst_bytes','land','wrong_fragment','urgent','hot',\n",
        "            'num_failed_logins','logged_in','num_compromised','root_shell','su_attempted','num_root','num_file_creations',\n",
        "            'num_shells','num_access_files','num_outbound_cmds','is_host_login','is_guest_login','count','srv_count',\n",
        "            'serror_rate','srv_serror_rate','rerror_rate','srv_rerror_rate','same_srv_rate','diff_srv_rate','srv_diff_host_rate',\n",
        "            'dst_host_count','dst_host_srv_count','dst_host_same_srv_rate','dst_host_diff_srv_rate','dst_host_same_src_port_rate',\n",
        "            'dst_host_srv_diff_host_rate','dst_host_serror_rate','dst_host_srv_serror_rate','dst_host_rerror_rate',\n",
        "            'dst_host_srv_rerror_rate','attack','level'])"
      ],
      "metadata": {
        "id": "yb--6Z4hEpth"
      },
      "execution_count": 114,
      "outputs": []
    },
    {
      "cell_type": "code",
      "source": [
        "Trained_Data.columns = Columns\n",
        "Tested_Data.columns  = Columns"
      ],
      "metadata": {
        "id": "wBqHNBi9Esqp"
      },
      "execution_count": 115,
      "outputs": []
    },
    {
      "cell_type": "code",
      "source": [
        "\"attack\" in Tested_Data.columns"
      ],
      "metadata": {
        "colab": {
          "base_uri": "https://localhost:8080/"
        },
        "id": "Gh7TsrgkWkpY",
        "outputId": "bcdf7cac-1f61-4a39-cf92-9b514bc8f49d"
      },
      "execution_count": 116,
      "outputs": [
        {
          "output_type": "execute_result",
          "data": {
            "text/plain": [
              "True"
            ]
          },
          "metadata": {},
          "execution_count": 116
        }
      ]
    },
    {
      "cell_type": "code",
      "source": [
        "Results = set(Trained_Data['attack'].values)\n",
        "print(Results,end=\" \")"
      ],
      "metadata": {
        "colab": {
          "base_uri": "https://localhost:8080/"
        },
        "id": "1hVrM13IEyvD",
        "outputId": "306670f6-2d88-478e-89b6-49018db74a08"
      },
      "execution_count": 117,
      "outputs": [
        {
          "output_type": "stream",
          "name": "stdout",
          "text": [
            "{'teardrop', 'warezclient', 'perl', 'buffer_overflow', 'ftp_write', 'portsweep', 'imap', 'warezmaster', 'smurf', 'normal', 'phf', 'land', 'ipsweep', 'nmap', 'spy', 'satan', 'multihop', 'neptune', 'rootkit', 'back', 'pod', 'loadmodule', 'guess_passwd'} "
          ]
        }
      ]
    },
    {
      "cell_type": "code",
      "source": [
        "Trained_attack = Trained_Data.attack.map(lambda a: 0 if a == 'normal' else 1)\n",
        "Tested_attack = Tested_Data.attack.map(lambda a: 0 if a == 'normal' else 1)\n",
        "\n",
        "Trained_Data['attack_state'] = Trained_attack\n",
        "Tested_Data['attack_state'] = Tested_attack\n",
        "Trained_Data.shape"
      ],
      "metadata": {
        "colab": {
          "base_uri": "https://localhost:8080/"
        },
        "id": "9aNClQBoE50Z",
        "outputId": "73b1b1dd-06b2-4e44-adf8-3635ebe0b826"
      },
      "execution_count": 118,
      "outputs": [
        {
          "output_type": "execute_result",
          "data": {
            "text/plain": [
              "(125972, 44)"
            ]
          },
          "metadata": {},
          "execution_count": 118
        }
      ]
    },
    {
      "cell_type": "code",
      "source": [
        "features_to_encode = ['protocol_type', 'service', 'flag']\n",
        "encoded = pd.get_dummies(Trained_Data[features_to_encode])\n",
        "test_encoded_base = pd.get_dummies(Tested_Data[features_to_encode])\n",
        "\n",
        "\n",
        "test_index = np.arange(len(Tested_Data.index))\n",
        "column_diffs = list(set(encoded.columns.values)-set(test_encoded_base.columns.values))\n",
        "\n",
        "diff_df = pd.DataFrame(0, index=test_index, columns=column_diffs)\n",
        "\n",
        "column_order = encoded.columns.to_list()\n",
        "\n",
        "test_encoded_temp = test_encoded_base.join(diff_df)\n",
        "\n",
        "test_final = test_encoded_temp[column_order].fillna(0)\n",
        "\n",
        "numeric_features = ['duration', 'src_bytes', 'dst_bytes']\n",
        "\n",
        "to_fit = encoded.join(Trained_Data[numeric_features])\n",
        "test_set = test_final.join(Tested_Data[numeric_features])"
      ],
      "metadata": {
        "id": "dTlIYq6CYbOn"
      },
      "execution_count": 119,
      "outputs": []
    },
    {
      "cell_type": "code",
      "source": [
        "\n",
        "\n",
        "Trained_Data.drop(['protocol_type', 'service', 'flag','duration', 'src_bytes', 'dst_bytes'], axis=1, inplace=True)\n",
        "Tested_Data.drop(['protocol_type', 'service', 'flag','duration', 'src_bytes', 'dst_bytes'], axis=1, inplace=True)\n",
        "\n"
      ],
      "metadata": {
        "id": "-k1aQSBXGh17"
      },
      "execution_count": 120,
      "outputs": []
    },
    {
      "cell_type": "code",
      "source": [
        "\n",
        "Trained_Data = Trained_Data.join(to_fit)\n",
        "Tested_Data = Tested_Data.join(test_set)\n"
      ],
      "metadata": {
        "id": "hgK1LoMdZJ17"
      },
      "execution_count": 121,
      "outputs": []
    },
    {
      "cell_type": "markdown",
      "source": [],
      "metadata": {
        "id": "a6Xm_dxHb9ds"
      }
    },
    {
      "cell_type": "code",
      "source": [
        "Tested_Data.shape"
      ],
      "metadata": {
        "colab": {
          "base_uri": "https://localhost:8080/"
        },
        "id": "jdpVQR6IFDDq",
        "outputId": "de506968-550e-4dc4-9b56-c2fbe3640674"
      },
      "execution_count": 122,
      "outputs": [
        {
          "output_type": "execute_result",
          "data": {
            "text/plain": [
              "(22543, 125)"
            ]
          },
          "metadata": {},
          "execution_count": 122
        }
      ]
    },
    {
      "cell_type": "code",
      "source": [
        "LE = LabelEncoder()\n",
        "attack_LE= LabelEncoder()\n",
        "Trained_Data['attack'] = attack_LE.fit_transform(Trained_Data[\"attack\"])\n",
        "Tested_Data['attack'] = attack_LE.fit_transform(Tested_Data[\"attack\"])\n"
      ],
      "metadata": {
        "id": "itTh-ojcLHI9"
      },
      "execution_count": 123,
      "outputs": []
    },
    {
      "cell_type": "code",
      "source": [
        "X_train = Trained_Data.drop('attack', axis = 1)\n",
        "X_train = Trained_Data.drop('level', axis = 1)\n",
        "X_train = Trained_Data.drop('attack_state', axis = 1)\n",
        "\n",
        "X_test = Tested_Data.drop('attack', axis = 1)\n",
        "X_test = Tested_Data.drop('level', axis = 1)\n",
        "X_test = Tested_Data.drop('attack_state', axis = 1)\n",
        "\n",
        "\n",
        "Y_train = Trained_Data['attack_state']\n",
        "Y_test = Tested_Data['attack_state']\n"
      ],
      "metadata": {
        "id": "3mCkH-ZgFTam"
      },
      "execution_count": 124,
      "outputs": []
    },
    {
      "cell_type": "code",
      "source": [
        "\n",
        "print(X_train.shape)\n",
        "print(X_test.shape)\n"
      ],
      "metadata": {
        "colab": {
          "base_uri": "https://localhost:8080/"
        },
        "id": "C4Fn_aeERlMz",
        "outputId": "2b5a15a9-5fe5-4e92-bdc5-ee02642f6821"
      },
      "execution_count": 125,
      "outputs": [
        {
          "output_type": "stream",
          "name": "stdout",
          "text": [
            "(125972, 124)\n",
            "(22543, 124)\n"
          ]
        }
      ]
    },
    {
      "cell_type": "code",
      "source": [
        "LE = LabelEncoder()\n",
        "attack_LE= LabelEncoder()\n",
        "Trained_Data['attack'] = attack_LE.fit_transform(Trained_Data[\"attack\"])\n",
        "Tested_Data['attack'] = attack_LE.fit_transform(Tested_Data[\"attack\"])\n"
      ],
      "metadata": {
        "id": "jaee3pHkJ-vz"
      },
      "execution_count": 126,
      "outputs": []
    },
    {
      "cell_type": "code",
      "source": [],
      "metadata": {
        "id": "NV3DHcyvG5U1"
      },
      "execution_count": 126,
      "outputs": []
    },
    {
      "cell_type": "code",
      "source": [
        "\n",
        "Ro_scaler = RobustScaler()\n",
        "X_train = Ro_scaler.fit_transform(X_train)\n",
        "X_test = Ro_scaler.fit_transform(X_test)"
      ],
      "metadata": {
        "id": "HcVJIv-tG1ok"
      },
      "execution_count": 127,
      "outputs": []
    },
    {
      "cell_type": "code",
      "source": [
        "len(X_test[0])"
      ],
      "metadata": {
        "colab": {
          "base_uri": "https://localhost:8080/"
        },
        "id": "lYCqlcO3RBwl",
        "outputId": "7f9490d6-28a0-40b5-95a8-96175408b6ac"
      },
      "execution_count": 99,
      "outputs": [
        {
          "output_type": "execute_result",
          "data": {
            "text/plain": [
              "124"
            ]
          },
          "metadata": {},
          "execution_count": 99
        }
      ]
    },
    {
      "cell_type": "code",
      "source": [
        "A = sm.add_constant(X_train)\n",
        "Est1 = sm.GLM(Y_train, A)\n",
        "Est2 = Est1.fit()\n",
        "Est2.summary()"
      ],
      "metadata": {
        "colab": {
          "base_uri": "https://localhost:8080/",
          "height": 1000
        },
        "id": "1sQfBGhQHJLf",
        "outputId": "6319a961-2185-446d-b146-3ef017a5459c"
      },
      "execution_count": 100,
      "outputs": [
        {
          "output_type": "execute_result",
          "data": {
            "text/plain": [
              "<class 'statsmodels.iolib.summary.Summary'>\n",
              "\"\"\"\n",
              "                 Generalized Linear Model Regression Results                  \n",
              "==============================================================================\n",
              "Dep. Variable:           attack_state   No. Observations:               125972\n",
              "Model:                            GLM   Df Residuals:                   125852\n",
              "Model Family:                Gaussian   Df Model:                          119\n",
              "Link Function:               Identity   Scale:                        0.021929\n",
              "Method:                          IRLS   Log-Likelihood:                 61917.\n",
              "Date:                Sun, 25 Feb 2024   Deviance:                       2759.8\n",
              "Time:                        06:51:23   Pearson chi2:                 2.76e+03\n",
              "No. Iterations:                     3   Pseudo R-squ. (CS):              1.000\n",
              "Covariance Type:            nonrobust                                         \n",
              "==============================================================================\n",
              "                 coef    std err          z      P>|z|      [0.025      0.975]\n",
              "------------------------------------------------------------------------------\n",
              "const         -0.0029      0.005     -0.544      0.587      -0.013       0.008\n",
              "x1            -0.3573      0.030    -11.833      0.000      -0.416      -0.298\n",
              "x2             0.1395      0.002     68.163      0.000       0.135       0.144\n",
              "x3            -0.0318      0.029     -1.078      0.281      -0.090       0.026\n",
              "x4             0.0125      0.000     32.250      0.000       0.012       0.013\n",
              "x5            -0.0524      0.010     -5.496      0.000      -0.071      -0.034\n",
              "x6             0.1497      0.003     45.117      0.000       0.143       0.156\n",
              "x7             0.0030      0.001      5.775      0.000       0.002       0.004\n",
              "x8            -0.0419      0.015     -2.858      0.004      -0.071      -0.013\n",
              "x9            -0.0386      0.015     -2.560      0.010      -0.068      -0.009\n",
              "x10           -0.0030      0.001     -5.741      0.000      -0.004      -0.002\n",
              "x11           -0.0119      0.001    -13.278      0.000      -0.014      -0.010\n",
              "x12           -0.1007      0.019     -5.281      0.000      -0.138      -0.063\n",
              "x13            0.0103      0.006      1.789      0.074      -0.001       0.022\n",
              "x14         1.738e-15   1.14e-15      1.518      0.129   -5.05e-16    3.98e-15\n",
              "x15           -0.3446      0.148     -2.325      0.020      -0.635      -0.054\n",
              "x16           -0.2940      0.011    -27.095      0.000      -0.315      -0.273\n",
              "x17            0.0384      0.001     30.633      0.000       0.036       0.041\n",
              "x18            0.0014      0.000      6.816      0.000       0.001       0.002\n",
              "x19           -0.0660      0.010     -6.291      0.000      -0.087      -0.045\n",
              "x20            0.2799      0.011     24.504      0.000       0.258       0.302\n",
              "x21           -0.1146      0.011    -10.207      0.000      -0.137      -0.093\n",
              "x22            0.5408      0.013     41.412      0.000       0.515       0.566\n",
              "x23           -0.3340      0.003    -98.730      0.000      -0.341      -0.327\n",
              "x24           -0.0076      0.000    -33.960      0.000      -0.008      -0.007\n",
              "x25            0.0579      0.002     27.740      0.000       0.054       0.062\n",
              "x26            0.0553      0.001     49.006      0.000       0.053       0.058\n",
              "x27           -0.0945      0.003    -32.541      0.000      -0.100      -0.089\n",
              "x28            0.0049      0.003      1.440      0.150      -0.002       0.011\n",
              "x29            0.0098      0.000     33.792      0.000       0.009       0.010\n",
              "x30            0.0072      0.000     46.137      0.000       0.007       0.008\n",
              "x31            0.0022      0.000     18.576      0.000       0.002       0.002\n",
              "x32           -0.0741      0.006    -11.429      0.000      -0.087      -0.061\n",
              "x33            0.0657      0.008      8.185      0.000       0.050       0.081\n",
              "x34            0.0624      0.004     13.873      0.000       0.054       0.071\n",
              "x35            0.2157      0.006     35.290      0.000       0.204       0.228\n",
              "x36            0.0021      0.001      3.964      0.000       0.001       0.003\n",
              "x37           -0.1544      0.001   -217.392      0.000      -0.156      -0.153\n",
              "x38            0.0742      0.009      8.127      0.000       0.056       0.092\n",
              "x39           -0.0855      0.005    -16.612      0.000      -0.096      -0.075\n",
              "x40            0.0113      0.005      2.236      0.025       0.001       0.021\n",
              "x41           -0.4877      0.012    -40.880      0.000      -0.511      -0.464\n",
              "x42           -0.2665      0.018    -15.090      0.000      -0.301      -0.232\n",
              "x43            0.0247      0.006      3.840      0.000       0.012       0.037\n",
              "x44           -0.1116      0.103     -1.081      0.280      -0.314       0.091\n",
              "x45           -0.0246      0.006     -3.936      0.000      -0.037      -0.012\n",
              "x46            0.0362      0.007      5.301      0.000       0.023       0.050\n",
              "x47            0.0691      0.007     10.172      0.000       0.056       0.082\n",
              "x48            0.0489      0.007      6.546      0.000       0.034       0.064\n",
              "x49            0.0488      0.007      6.610      0.000       0.034       0.063\n",
              "x50            0.0317      0.008      4.166      0.000       0.017       0.047\n",
              "x51            0.0411      0.008      5.453      0.000       0.026       0.056\n",
              "x52           -0.0155      0.007     -2.114      0.035      -0.030      -0.001\n",
              "x53           -0.1227      0.005    -22.576      0.000      -0.133      -0.112\n",
              "x54            0.0377      0.008      4.637      0.000       0.022       0.054\n",
              "x55            0.4245      0.014     31.172      0.000       0.398       0.451\n",
              "x56            0.5057      0.014     36.875      0.000       0.479       0.533\n",
              "x57            0.0981      0.008     12.569      0.000       0.083       0.113\n",
              "x58            0.0800      0.008     10.125      0.000       0.065       0.096\n",
              "x59            0.0626      0.005     11.398      0.000       0.052       0.073\n",
              "x60            0.0143      0.007      1.927      0.054      -0.000       0.029\n",
              "x61           -0.0502      0.005    -10.470      0.000      -0.060      -0.041\n",
              "x62            0.0482      0.008      6.347      0.000       0.033       0.063\n",
              "x63           -0.2003      0.103     -1.938      0.053      -0.403       0.002\n",
              "x64            0.0440      0.008      5.539      0.000       0.028       0.060\n",
              "x65           -0.0135      0.005     -2.772      0.006      -0.023      -0.004\n",
              "x66           -0.1091      0.146     -0.748      0.455      -0.395       0.177\n",
              "x67            0.0698      0.008      9.237      0.000       0.055       0.085\n",
              "x68           -0.1977      0.103     -1.913      0.056      -0.400       0.005\n",
              "x69            0.0441      0.007      6.253      0.000       0.030       0.058\n",
              "x70            0.0312      0.007      4.515      0.000       0.018       0.045\n",
              "x71            0.1063      0.008     13.065      0.000       0.090       0.122\n",
              "x72            0.0900      0.009      9.579      0.000       0.072       0.108\n",
              "x73            0.0709      0.008      8.556      0.000       0.055       0.087\n",
              "x74            0.0401      0.008      5.116      0.000       0.025       0.055\n",
              "x75            0.0880      0.008     10.749      0.000       0.072       0.104\n",
              "x76            0.0392      0.008      4.852      0.000       0.023       0.055\n",
              "x77            0.0421      0.008      5.271      0.000       0.026       0.058\n",
              "x78            0.0463      0.008      5.569      0.000       0.030       0.063\n",
              "x79            0.0555      0.009      6.287      0.000       0.038       0.073\n",
              "x80            0.0543      0.009      6.253      0.000       0.037       0.071\n",
              "x81            0.0516      0.009      5.923      0.000       0.034       0.069\n",
              "x82            0.0879      0.007     12.324      0.000       0.074       0.102\n",
              "x83            0.0575      0.009      6.111      0.000       0.039       0.076\n",
              "x84           -0.1263      0.012    -10.269      0.000      -0.150      -0.102\n",
              "x85           -0.1811      0.005    -35.298      0.000      -0.191      -0.171\n",
              "x86           -0.0336      0.066     -0.511      0.610      -0.162       0.095\n",
              "x87            0.1270      0.017      7.466      0.000       0.094       0.160\n",
              "x88           -0.1009      0.010    -10.040      0.000      -0.121      -0.081\n",
              "x89            0.1624      0.018      8.998      0.000       0.127       0.198\n",
              "x90            0.1357      0.004     32.175      0.000       0.127       0.144\n",
              "x91           -0.1653      0.046     -3.611      0.000      -0.255      -0.076\n",
              "x92            0.1310      0.017      7.701      0.000       0.098       0.164\n",
              "x93            0.1351      0.016      8.315      0.000       0.103       0.167\n",
              "x94            0.1233      0.019      6.644      0.000       0.087       0.160\n",
              "x95           -0.0847      0.005    -16.948      0.000      -0.094      -0.075\n",
              "x96            0.0929      0.010      9.134      0.000       0.073       0.113\n",
              "x97            0.0598      0.009      6.487      0.000       0.042       0.078\n",
              "x98            0.0443      0.009      5.185      0.000       0.028       0.061\n",
              "x99            0.0478      0.007      6.401      0.000       0.033       0.062\n",
              "x100           0.0422      0.008      5.391      0.000       0.027       0.058\n",
              "x101          -0.0397      0.005     -7.566      0.000      -0.050      -0.029\n",
              "x102          -0.8723      0.084    -10.337      0.000      -1.038      -0.707\n",
              "x103          -0.1654      0.046     -3.613      0.000      -0.255      -0.076\n",
              "x104           0.0138      0.007      1.962      0.050    1.32e-05       0.028\n",
              "x105          -0.1428      0.041     -3.452      0.001      -0.224      -0.062\n",
              "x106          -0.3825      0.014    -26.888      0.000      -0.410      -0.355\n",
              "x107           0.0723      0.007     10.778      0.000       0.059       0.085\n",
              "x108           0.0415      0.007      6.022      0.000       0.028       0.055\n",
              "x109           0.0303      0.007      4.229      0.000       0.016       0.044\n",
              "x110           0.0413      0.007      5.994      0.000       0.028       0.055\n",
              "x111           0.2448      0.021     11.594      0.000       0.203       0.286\n",
              "x112          -0.2047      0.010    -21.491      0.000      -0.223      -0.186\n",
              "x113          -0.1579      0.010    -15.873      0.000      -0.177      -0.138\n",
              "x114           0.0461      0.014      3.228      0.001       0.018       0.074\n",
              "x115          -0.0445      0.010     -4.562      0.000      -0.064      -0.025\n",
              "x116           0.3931      0.008     51.684      0.000       0.378       0.408\n",
              "x117          -0.2927      0.009    -30.899      0.000      -0.311      -0.274\n",
              "x118          -0.1905      0.014    -14.114      0.000      -0.217      -0.164\n",
              "x119          -0.2869      0.020    -14.345      0.000      -0.326      -0.248\n",
              "x120           0.0710      0.007     10.391      0.000       0.058       0.084\n",
              "x121           0.4223      0.012     36.491      0.000       0.400       0.445\n",
              "x122       -4.783e-06      2e-07    -23.889      0.000   -5.18e-06   -4.39e-06\n",
              "x123        3.358e-08   2.01e-08      1.672      0.094   -5.78e-09    7.29e-08\n",
              "x124       -7.734e-08   5.36e-08     -1.443      0.149   -1.82e-07    2.77e-08\n",
              "==============================================================================\n",
              "\"\"\""
            ],
            "text/html": [
              "<table class=\"simpletable\">\n",
              "<caption>Generalized Linear Model Regression Results</caption>\n",
              "<tr>\n",
              "  <th>Dep. Variable:</th>     <td>attack_state</td>   <th>  No. Observations:  </th>  <td>125972</td> \n",
              "</tr>\n",
              "<tr>\n",
              "  <th>Model:</th>                  <td>GLM</td>       <th>  Df Residuals:      </th>  <td>125852</td> \n",
              "</tr>\n",
              "<tr>\n",
              "  <th>Model Family:</th>        <td>Gaussian</td>     <th>  Df Model:          </th>  <td>   119</td> \n",
              "</tr>\n",
              "<tr>\n",
              "  <th>Link Function:</th>       <td>Identity</td>     <th>  Scale:             </th> <td>0.021929</td>\n",
              "</tr>\n",
              "<tr>\n",
              "  <th>Method:</th>                <td>IRLS</td>       <th>  Log-Likelihood:    </th> <td>  61917.</td>\n",
              "</tr>\n",
              "<tr>\n",
              "  <th>Date:</th>            <td>Sun, 25 Feb 2024</td> <th>  Deviance:          </th> <td>  2759.8</td>\n",
              "</tr>\n",
              "<tr>\n",
              "  <th>Time:</th>                <td>06:51:23</td>     <th>  Pearson chi2:      </th> <td>2.76e+03</td>\n",
              "</tr>\n",
              "<tr>\n",
              "  <th>No. Iterations:</th>          <td>3</td>        <th>  Pseudo R-squ. (CS):</th>  <td> 1.000</td> \n",
              "</tr>\n",
              "<tr>\n",
              "  <th>Covariance Type:</th>     <td>nonrobust</td>    <th>                     </th>     <td> </td>   \n",
              "</tr>\n",
              "</table>\n",
              "<table class=\"simpletable\">\n",
              "<tr>\n",
              "    <td></td>       <th>coef</th>     <th>std err</th>      <th>z</th>      <th>P>|z|</th>  <th>[0.025</th>    <th>0.975]</th>  \n",
              "</tr>\n",
              "<tr>\n",
              "  <th>const</th> <td>   -0.0029</td> <td>    0.005</td> <td>   -0.544</td> <td> 0.587</td> <td>   -0.013</td> <td>    0.008</td>\n",
              "</tr>\n",
              "<tr>\n",
              "  <th>x1</th>    <td>   -0.3573</td> <td>    0.030</td> <td>  -11.833</td> <td> 0.000</td> <td>   -0.416</td> <td>   -0.298</td>\n",
              "</tr>\n",
              "<tr>\n",
              "  <th>x2</th>    <td>    0.1395</td> <td>    0.002</td> <td>   68.163</td> <td> 0.000</td> <td>    0.135</td> <td>    0.144</td>\n",
              "</tr>\n",
              "<tr>\n",
              "  <th>x3</th>    <td>   -0.0318</td> <td>    0.029</td> <td>   -1.078</td> <td> 0.281</td> <td>   -0.090</td> <td>    0.026</td>\n",
              "</tr>\n",
              "<tr>\n",
              "  <th>x4</th>    <td>    0.0125</td> <td>    0.000</td> <td>   32.250</td> <td> 0.000</td> <td>    0.012</td> <td>    0.013</td>\n",
              "</tr>\n",
              "<tr>\n",
              "  <th>x5</th>    <td>   -0.0524</td> <td>    0.010</td> <td>   -5.496</td> <td> 0.000</td> <td>   -0.071</td> <td>   -0.034</td>\n",
              "</tr>\n",
              "<tr>\n",
              "  <th>x6</th>    <td>    0.1497</td> <td>    0.003</td> <td>   45.117</td> <td> 0.000</td> <td>    0.143</td> <td>    0.156</td>\n",
              "</tr>\n",
              "<tr>\n",
              "  <th>x7</th>    <td>    0.0030</td> <td>    0.001</td> <td>    5.775</td> <td> 0.000</td> <td>    0.002</td> <td>    0.004</td>\n",
              "</tr>\n",
              "<tr>\n",
              "  <th>x8</th>    <td>   -0.0419</td> <td>    0.015</td> <td>   -2.858</td> <td> 0.004</td> <td>   -0.071</td> <td>   -0.013</td>\n",
              "</tr>\n",
              "<tr>\n",
              "  <th>x9</th>    <td>   -0.0386</td> <td>    0.015</td> <td>   -2.560</td> <td> 0.010</td> <td>   -0.068</td> <td>   -0.009</td>\n",
              "</tr>\n",
              "<tr>\n",
              "  <th>x10</th>   <td>   -0.0030</td> <td>    0.001</td> <td>   -5.741</td> <td> 0.000</td> <td>   -0.004</td> <td>   -0.002</td>\n",
              "</tr>\n",
              "<tr>\n",
              "  <th>x11</th>   <td>   -0.0119</td> <td>    0.001</td> <td>  -13.278</td> <td> 0.000</td> <td>   -0.014</td> <td>   -0.010</td>\n",
              "</tr>\n",
              "<tr>\n",
              "  <th>x12</th>   <td>   -0.1007</td> <td>    0.019</td> <td>   -5.281</td> <td> 0.000</td> <td>   -0.138</td> <td>   -0.063</td>\n",
              "</tr>\n",
              "<tr>\n",
              "  <th>x13</th>   <td>    0.0103</td> <td>    0.006</td> <td>    1.789</td> <td> 0.074</td> <td>   -0.001</td> <td>    0.022</td>\n",
              "</tr>\n",
              "<tr>\n",
              "  <th>x14</th>   <td> 1.738e-15</td> <td> 1.14e-15</td> <td>    1.518</td> <td> 0.129</td> <td>-5.05e-16</td> <td> 3.98e-15</td>\n",
              "</tr>\n",
              "<tr>\n",
              "  <th>x15</th>   <td>   -0.3446</td> <td>    0.148</td> <td>   -2.325</td> <td> 0.020</td> <td>   -0.635</td> <td>   -0.054</td>\n",
              "</tr>\n",
              "<tr>\n",
              "  <th>x16</th>   <td>   -0.2940</td> <td>    0.011</td> <td>  -27.095</td> <td> 0.000</td> <td>   -0.315</td> <td>   -0.273</td>\n",
              "</tr>\n",
              "<tr>\n",
              "  <th>x17</th>   <td>    0.0384</td> <td>    0.001</td> <td>   30.633</td> <td> 0.000</td> <td>    0.036</td> <td>    0.041</td>\n",
              "</tr>\n",
              "<tr>\n",
              "  <th>x18</th>   <td>    0.0014</td> <td>    0.000</td> <td>    6.816</td> <td> 0.000</td> <td>    0.001</td> <td>    0.002</td>\n",
              "</tr>\n",
              "<tr>\n",
              "  <th>x19</th>   <td>   -0.0660</td> <td>    0.010</td> <td>   -6.291</td> <td> 0.000</td> <td>   -0.087</td> <td>   -0.045</td>\n",
              "</tr>\n",
              "<tr>\n",
              "  <th>x20</th>   <td>    0.2799</td> <td>    0.011</td> <td>   24.504</td> <td> 0.000</td> <td>    0.258</td> <td>    0.302</td>\n",
              "</tr>\n",
              "<tr>\n",
              "  <th>x21</th>   <td>   -0.1146</td> <td>    0.011</td> <td>  -10.207</td> <td> 0.000</td> <td>   -0.137</td> <td>   -0.093</td>\n",
              "</tr>\n",
              "<tr>\n",
              "  <th>x22</th>   <td>    0.5408</td> <td>    0.013</td> <td>   41.412</td> <td> 0.000</td> <td>    0.515</td> <td>    0.566</td>\n",
              "</tr>\n",
              "<tr>\n",
              "  <th>x23</th>   <td>   -0.3340</td> <td>    0.003</td> <td>  -98.730</td> <td> 0.000</td> <td>   -0.341</td> <td>   -0.327</td>\n",
              "</tr>\n",
              "<tr>\n",
              "  <th>x24</th>   <td>   -0.0076</td> <td>    0.000</td> <td>  -33.960</td> <td> 0.000</td> <td>   -0.008</td> <td>   -0.007</td>\n",
              "</tr>\n",
              "<tr>\n",
              "  <th>x25</th>   <td>    0.0579</td> <td>    0.002</td> <td>   27.740</td> <td> 0.000</td> <td>    0.054</td> <td>    0.062</td>\n",
              "</tr>\n",
              "<tr>\n",
              "  <th>x26</th>   <td>    0.0553</td> <td>    0.001</td> <td>   49.006</td> <td> 0.000</td> <td>    0.053</td> <td>    0.058</td>\n",
              "</tr>\n",
              "<tr>\n",
              "  <th>x27</th>   <td>   -0.0945</td> <td>    0.003</td> <td>  -32.541</td> <td> 0.000</td> <td>   -0.100</td> <td>   -0.089</td>\n",
              "</tr>\n",
              "<tr>\n",
              "  <th>x28</th>   <td>    0.0049</td> <td>    0.003</td> <td>    1.440</td> <td> 0.150</td> <td>   -0.002</td> <td>    0.011</td>\n",
              "</tr>\n",
              "<tr>\n",
              "  <th>x29</th>   <td>    0.0098</td> <td>    0.000</td> <td>   33.792</td> <td> 0.000</td> <td>    0.009</td> <td>    0.010</td>\n",
              "</tr>\n",
              "<tr>\n",
              "  <th>x30</th>   <td>    0.0072</td> <td>    0.000</td> <td>   46.137</td> <td> 0.000</td> <td>    0.007</td> <td>    0.008</td>\n",
              "</tr>\n",
              "<tr>\n",
              "  <th>x31</th>   <td>    0.0022</td> <td>    0.000</td> <td>   18.576</td> <td> 0.000</td> <td>    0.002</td> <td>    0.002</td>\n",
              "</tr>\n",
              "<tr>\n",
              "  <th>x32</th>   <td>   -0.0741</td> <td>    0.006</td> <td>  -11.429</td> <td> 0.000</td> <td>   -0.087</td> <td>   -0.061</td>\n",
              "</tr>\n",
              "<tr>\n",
              "  <th>x33</th>   <td>    0.0657</td> <td>    0.008</td> <td>    8.185</td> <td> 0.000</td> <td>    0.050</td> <td>    0.081</td>\n",
              "</tr>\n",
              "<tr>\n",
              "  <th>x34</th>   <td>    0.0624</td> <td>    0.004</td> <td>   13.873</td> <td> 0.000</td> <td>    0.054</td> <td>    0.071</td>\n",
              "</tr>\n",
              "<tr>\n",
              "  <th>x35</th>   <td>    0.2157</td> <td>    0.006</td> <td>   35.290</td> <td> 0.000</td> <td>    0.204</td> <td>    0.228</td>\n",
              "</tr>\n",
              "<tr>\n",
              "  <th>x36</th>   <td>    0.0021</td> <td>    0.001</td> <td>    3.964</td> <td> 0.000</td> <td>    0.001</td> <td>    0.003</td>\n",
              "</tr>\n",
              "<tr>\n",
              "  <th>x37</th>   <td>   -0.1544</td> <td>    0.001</td> <td> -217.392</td> <td> 0.000</td> <td>   -0.156</td> <td>   -0.153</td>\n",
              "</tr>\n",
              "<tr>\n",
              "  <th>x38</th>   <td>    0.0742</td> <td>    0.009</td> <td>    8.127</td> <td> 0.000</td> <td>    0.056</td> <td>    0.092</td>\n",
              "</tr>\n",
              "<tr>\n",
              "  <th>x39</th>   <td>   -0.0855</td> <td>    0.005</td> <td>  -16.612</td> <td> 0.000</td> <td>   -0.096</td> <td>   -0.075</td>\n",
              "</tr>\n",
              "<tr>\n",
              "  <th>x40</th>   <td>    0.0113</td> <td>    0.005</td> <td>    2.236</td> <td> 0.025</td> <td>    0.001</td> <td>    0.021</td>\n",
              "</tr>\n",
              "<tr>\n",
              "  <th>x41</th>   <td>   -0.4877</td> <td>    0.012</td> <td>  -40.880</td> <td> 0.000</td> <td>   -0.511</td> <td>   -0.464</td>\n",
              "</tr>\n",
              "<tr>\n",
              "  <th>x42</th>   <td>   -0.2665</td> <td>    0.018</td> <td>  -15.090</td> <td> 0.000</td> <td>   -0.301</td> <td>   -0.232</td>\n",
              "</tr>\n",
              "<tr>\n",
              "  <th>x43</th>   <td>    0.0247</td> <td>    0.006</td> <td>    3.840</td> <td> 0.000</td> <td>    0.012</td> <td>    0.037</td>\n",
              "</tr>\n",
              "<tr>\n",
              "  <th>x44</th>   <td>   -0.1116</td> <td>    0.103</td> <td>   -1.081</td> <td> 0.280</td> <td>   -0.314</td> <td>    0.091</td>\n",
              "</tr>\n",
              "<tr>\n",
              "  <th>x45</th>   <td>   -0.0246</td> <td>    0.006</td> <td>   -3.936</td> <td> 0.000</td> <td>   -0.037</td> <td>   -0.012</td>\n",
              "</tr>\n",
              "<tr>\n",
              "  <th>x46</th>   <td>    0.0362</td> <td>    0.007</td> <td>    5.301</td> <td> 0.000</td> <td>    0.023</td> <td>    0.050</td>\n",
              "</tr>\n",
              "<tr>\n",
              "  <th>x47</th>   <td>    0.0691</td> <td>    0.007</td> <td>   10.172</td> <td> 0.000</td> <td>    0.056</td> <td>    0.082</td>\n",
              "</tr>\n",
              "<tr>\n",
              "  <th>x48</th>   <td>    0.0489</td> <td>    0.007</td> <td>    6.546</td> <td> 0.000</td> <td>    0.034</td> <td>    0.064</td>\n",
              "</tr>\n",
              "<tr>\n",
              "  <th>x49</th>   <td>    0.0488</td> <td>    0.007</td> <td>    6.610</td> <td> 0.000</td> <td>    0.034</td> <td>    0.063</td>\n",
              "</tr>\n",
              "<tr>\n",
              "  <th>x50</th>   <td>    0.0317</td> <td>    0.008</td> <td>    4.166</td> <td> 0.000</td> <td>    0.017</td> <td>    0.047</td>\n",
              "</tr>\n",
              "<tr>\n",
              "  <th>x51</th>   <td>    0.0411</td> <td>    0.008</td> <td>    5.453</td> <td> 0.000</td> <td>    0.026</td> <td>    0.056</td>\n",
              "</tr>\n",
              "<tr>\n",
              "  <th>x52</th>   <td>   -0.0155</td> <td>    0.007</td> <td>   -2.114</td> <td> 0.035</td> <td>   -0.030</td> <td>   -0.001</td>\n",
              "</tr>\n",
              "<tr>\n",
              "  <th>x53</th>   <td>   -0.1227</td> <td>    0.005</td> <td>  -22.576</td> <td> 0.000</td> <td>   -0.133</td> <td>   -0.112</td>\n",
              "</tr>\n",
              "<tr>\n",
              "  <th>x54</th>   <td>    0.0377</td> <td>    0.008</td> <td>    4.637</td> <td> 0.000</td> <td>    0.022</td> <td>    0.054</td>\n",
              "</tr>\n",
              "<tr>\n",
              "  <th>x55</th>   <td>    0.4245</td> <td>    0.014</td> <td>   31.172</td> <td> 0.000</td> <td>    0.398</td> <td>    0.451</td>\n",
              "</tr>\n",
              "<tr>\n",
              "  <th>x56</th>   <td>    0.5057</td> <td>    0.014</td> <td>   36.875</td> <td> 0.000</td> <td>    0.479</td> <td>    0.533</td>\n",
              "</tr>\n",
              "<tr>\n",
              "  <th>x57</th>   <td>    0.0981</td> <td>    0.008</td> <td>   12.569</td> <td> 0.000</td> <td>    0.083</td> <td>    0.113</td>\n",
              "</tr>\n",
              "<tr>\n",
              "  <th>x58</th>   <td>    0.0800</td> <td>    0.008</td> <td>   10.125</td> <td> 0.000</td> <td>    0.065</td> <td>    0.096</td>\n",
              "</tr>\n",
              "<tr>\n",
              "  <th>x59</th>   <td>    0.0626</td> <td>    0.005</td> <td>   11.398</td> <td> 0.000</td> <td>    0.052</td> <td>    0.073</td>\n",
              "</tr>\n",
              "<tr>\n",
              "  <th>x60</th>   <td>    0.0143</td> <td>    0.007</td> <td>    1.927</td> <td> 0.054</td> <td>   -0.000</td> <td>    0.029</td>\n",
              "</tr>\n",
              "<tr>\n",
              "  <th>x61</th>   <td>   -0.0502</td> <td>    0.005</td> <td>  -10.470</td> <td> 0.000</td> <td>   -0.060</td> <td>   -0.041</td>\n",
              "</tr>\n",
              "<tr>\n",
              "  <th>x62</th>   <td>    0.0482</td> <td>    0.008</td> <td>    6.347</td> <td> 0.000</td> <td>    0.033</td> <td>    0.063</td>\n",
              "</tr>\n",
              "<tr>\n",
              "  <th>x63</th>   <td>   -0.2003</td> <td>    0.103</td> <td>   -1.938</td> <td> 0.053</td> <td>   -0.403</td> <td>    0.002</td>\n",
              "</tr>\n",
              "<tr>\n",
              "  <th>x64</th>   <td>    0.0440</td> <td>    0.008</td> <td>    5.539</td> <td> 0.000</td> <td>    0.028</td> <td>    0.060</td>\n",
              "</tr>\n",
              "<tr>\n",
              "  <th>x65</th>   <td>   -0.0135</td> <td>    0.005</td> <td>   -2.772</td> <td> 0.006</td> <td>   -0.023</td> <td>   -0.004</td>\n",
              "</tr>\n",
              "<tr>\n",
              "  <th>x66</th>   <td>   -0.1091</td> <td>    0.146</td> <td>   -0.748</td> <td> 0.455</td> <td>   -0.395</td> <td>    0.177</td>\n",
              "</tr>\n",
              "<tr>\n",
              "  <th>x67</th>   <td>    0.0698</td> <td>    0.008</td> <td>    9.237</td> <td> 0.000</td> <td>    0.055</td> <td>    0.085</td>\n",
              "</tr>\n",
              "<tr>\n",
              "  <th>x68</th>   <td>   -0.1977</td> <td>    0.103</td> <td>   -1.913</td> <td> 0.056</td> <td>   -0.400</td> <td>    0.005</td>\n",
              "</tr>\n",
              "<tr>\n",
              "  <th>x69</th>   <td>    0.0441</td> <td>    0.007</td> <td>    6.253</td> <td> 0.000</td> <td>    0.030</td> <td>    0.058</td>\n",
              "</tr>\n",
              "<tr>\n",
              "  <th>x70</th>   <td>    0.0312</td> <td>    0.007</td> <td>    4.515</td> <td> 0.000</td> <td>    0.018</td> <td>    0.045</td>\n",
              "</tr>\n",
              "<tr>\n",
              "  <th>x71</th>   <td>    0.1063</td> <td>    0.008</td> <td>   13.065</td> <td> 0.000</td> <td>    0.090</td> <td>    0.122</td>\n",
              "</tr>\n",
              "<tr>\n",
              "  <th>x72</th>   <td>    0.0900</td> <td>    0.009</td> <td>    9.579</td> <td> 0.000</td> <td>    0.072</td> <td>    0.108</td>\n",
              "</tr>\n",
              "<tr>\n",
              "  <th>x73</th>   <td>    0.0709</td> <td>    0.008</td> <td>    8.556</td> <td> 0.000</td> <td>    0.055</td> <td>    0.087</td>\n",
              "</tr>\n",
              "<tr>\n",
              "  <th>x74</th>   <td>    0.0401</td> <td>    0.008</td> <td>    5.116</td> <td> 0.000</td> <td>    0.025</td> <td>    0.055</td>\n",
              "</tr>\n",
              "<tr>\n",
              "  <th>x75</th>   <td>    0.0880</td> <td>    0.008</td> <td>   10.749</td> <td> 0.000</td> <td>    0.072</td> <td>    0.104</td>\n",
              "</tr>\n",
              "<tr>\n",
              "  <th>x76</th>   <td>    0.0392</td> <td>    0.008</td> <td>    4.852</td> <td> 0.000</td> <td>    0.023</td> <td>    0.055</td>\n",
              "</tr>\n",
              "<tr>\n",
              "  <th>x77</th>   <td>    0.0421</td> <td>    0.008</td> <td>    5.271</td> <td> 0.000</td> <td>    0.026</td> <td>    0.058</td>\n",
              "</tr>\n",
              "<tr>\n",
              "  <th>x78</th>   <td>    0.0463</td> <td>    0.008</td> <td>    5.569</td> <td> 0.000</td> <td>    0.030</td> <td>    0.063</td>\n",
              "</tr>\n",
              "<tr>\n",
              "  <th>x79</th>   <td>    0.0555</td> <td>    0.009</td> <td>    6.287</td> <td> 0.000</td> <td>    0.038</td> <td>    0.073</td>\n",
              "</tr>\n",
              "<tr>\n",
              "  <th>x80</th>   <td>    0.0543</td> <td>    0.009</td> <td>    6.253</td> <td> 0.000</td> <td>    0.037</td> <td>    0.071</td>\n",
              "</tr>\n",
              "<tr>\n",
              "  <th>x81</th>   <td>    0.0516</td> <td>    0.009</td> <td>    5.923</td> <td> 0.000</td> <td>    0.034</td> <td>    0.069</td>\n",
              "</tr>\n",
              "<tr>\n",
              "  <th>x82</th>   <td>    0.0879</td> <td>    0.007</td> <td>   12.324</td> <td> 0.000</td> <td>    0.074</td> <td>    0.102</td>\n",
              "</tr>\n",
              "<tr>\n",
              "  <th>x83</th>   <td>    0.0575</td> <td>    0.009</td> <td>    6.111</td> <td> 0.000</td> <td>    0.039</td> <td>    0.076</td>\n",
              "</tr>\n",
              "<tr>\n",
              "  <th>x84</th>   <td>   -0.1263</td> <td>    0.012</td> <td>  -10.269</td> <td> 0.000</td> <td>   -0.150</td> <td>   -0.102</td>\n",
              "</tr>\n",
              "<tr>\n",
              "  <th>x85</th>   <td>   -0.1811</td> <td>    0.005</td> <td>  -35.298</td> <td> 0.000</td> <td>   -0.191</td> <td>   -0.171</td>\n",
              "</tr>\n",
              "<tr>\n",
              "  <th>x86</th>   <td>   -0.0336</td> <td>    0.066</td> <td>   -0.511</td> <td> 0.610</td> <td>   -0.162</td> <td>    0.095</td>\n",
              "</tr>\n",
              "<tr>\n",
              "  <th>x87</th>   <td>    0.1270</td> <td>    0.017</td> <td>    7.466</td> <td> 0.000</td> <td>    0.094</td> <td>    0.160</td>\n",
              "</tr>\n",
              "<tr>\n",
              "  <th>x88</th>   <td>   -0.1009</td> <td>    0.010</td> <td>  -10.040</td> <td> 0.000</td> <td>   -0.121</td> <td>   -0.081</td>\n",
              "</tr>\n",
              "<tr>\n",
              "  <th>x89</th>   <td>    0.1624</td> <td>    0.018</td> <td>    8.998</td> <td> 0.000</td> <td>    0.127</td> <td>    0.198</td>\n",
              "</tr>\n",
              "<tr>\n",
              "  <th>x90</th>   <td>    0.1357</td> <td>    0.004</td> <td>   32.175</td> <td> 0.000</td> <td>    0.127</td> <td>    0.144</td>\n",
              "</tr>\n",
              "<tr>\n",
              "  <th>x91</th>   <td>   -0.1653</td> <td>    0.046</td> <td>   -3.611</td> <td> 0.000</td> <td>   -0.255</td> <td>   -0.076</td>\n",
              "</tr>\n",
              "<tr>\n",
              "  <th>x92</th>   <td>    0.1310</td> <td>    0.017</td> <td>    7.701</td> <td> 0.000</td> <td>    0.098</td> <td>    0.164</td>\n",
              "</tr>\n",
              "<tr>\n",
              "  <th>x93</th>   <td>    0.1351</td> <td>    0.016</td> <td>    8.315</td> <td> 0.000</td> <td>    0.103</td> <td>    0.167</td>\n",
              "</tr>\n",
              "<tr>\n",
              "  <th>x94</th>   <td>    0.1233</td> <td>    0.019</td> <td>    6.644</td> <td> 0.000</td> <td>    0.087</td> <td>    0.160</td>\n",
              "</tr>\n",
              "<tr>\n",
              "  <th>x95</th>   <td>   -0.0847</td> <td>    0.005</td> <td>  -16.948</td> <td> 0.000</td> <td>   -0.094</td> <td>   -0.075</td>\n",
              "</tr>\n",
              "<tr>\n",
              "  <th>x96</th>   <td>    0.0929</td> <td>    0.010</td> <td>    9.134</td> <td> 0.000</td> <td>    0.073</td> <td>    0.113</td>\n",
              "</tr>\n",
              "<tr>\n",
              "  <th>x97</th>   <td>    0.0598</td> <td>    0.009</td> <td>    6.487</td> <td> 0.000</td> <td>    0.042</td> <td>    0.078</td>\n",
              "</tr>\n",
              "<tr>\n",
              "  <th>x98</th>   <td>    0.0443</td> <td>    0.009</td> <td>    5.185</td> <td> 0.000</td> <td>    0.028</td> <td>    0.061</td>\n",
              "</tr>\n",
              "<tr>\n",
              "  <th>x99</th>   <td>    0.0478</td> <td>    0.007</td> <td>    6.401</td> <td> 0.000</td> <td>    0.033</td> <td>    0.062</td>\n",
              "</tr>\n",
              "<tr>\n",
              "  <th>x100</th>  <td>    0.0422</td> <td>    0.008</td> <td>    5.391</td> <td> 0.000</td> <td>    0.027</td> <td>    0.058</td>\n",
              "</tr>\n",
              "<tr>\n",
              "  <th>x101</th>  <td>   -0.0397</td> <td>    0.005</td> <td>   -7.566</td> <td> 0.000</td> <td>   -0.050</td> <td>   -0.029</td>\n",
              "</tr>\n",
              "<tr>\n",
              "  <th>x102</th>  <td>   -0.8723</td> <td>    0.084</td> <td>  -10.337</td> <td> 0.000</td> <td>   -1.038</td> <td>   -0.707</td>\n",
              "</tr>\n",
              "<tr>\n",
              "  <th>x103</th>  <td>   -0.1654</td> <td>    0.046</td> <td>   -3.613</td> <td> 0.000</td> <td>   -0.255</td> <td>   -0.076</td>\n",
              "</tr>\n",
              "<tr>\n",
              "  <th>x104</th>  <td>    0.0138</td> <td>    0.007</td> <td>    1.962</td> <td> 0.050</td> <td> 1.32e-05</td> <td>    0.028</td>\n",
              "</tr>\n",
              "<tr>\n",
              "  <th>x105</th>  <td>   -0.1428</td> <td>    0.041</td> <td>   -3.452</td> <td> 0.001</td> <td>   -0.224</td> <td>   -0.062</td>\n",
              "</tr>\n",
              "<tr>\n",
              "  <th>x106</th>  <td>   -0.3825</td> <td>    0.014</td> <td>  -26.888</td> <td> 0.000</td> <td>   -0.410</td> <td>   -0.355</td>\n",
              "</tr>\n",
              "<tr>\n",
              "  <th>x107</th>  <td>    0.0723</td> <td>    0.007</td> <td>   10.778</td> <td> 0.000</td> <td>    0.059</td> <td>    0.085</td>\n",
              "</tr>\n",
              "<tr>\n",
              "  <th>x108</th>  <td>    0.0415</td> <td>    0.007</td> <td>    6.022</td> <td> 0.000</td> <td>    0.028</td> <td>    0.055</td>\n",
              "</tr>\n",
              "<tr>\n",
              "  <th>x109</th>  <td>    0.0303</td> <td>    0.007</td> <td>    4.229</td> <td> 0.000</td> <td>    0.016</td> <td>    0.044</td>\n",
              "</tr>\n",
              "<tr>\n",
              "  <th>x110</th>  <td>    0.0413</td> <td>    0.007</td> <td>    5.994</td> <td> 0.000</td> <td>    0.028</td> <td>    0.055</td>\n",
              "</tr>\n",
              "<tr>\n",
              "  <th>x111</th>  <td>    0.2448</td> <td>    0.021</td> <td>   11.594</td> <td> 0.000</td> <td>    0.203</td> <td>    0.286</td>\n",
              "</tr>\n",
              "<tr>\n",
              "  <th>x112</th>  <td>   -0.2047</td> <td>    0.010</td> <td>  -21.491</td> <td> 0.000</td> <td>   -0.223</td> <td>   -0.186</td>\n",
              "</tr>\n",
              "<tr>\n",
              "  <th>x113</th>  <td>   -0.1579</td> <td>    0.010</td> <td>  -15.873</td> <td> 0.000</td> <td>   -0.177</td> <td>   -0.138</td>\n",
              "</tr>\n",
              "<tr>\n",
              "  <th>x114</th>  <td>    0.0461</td> <td>    0.014</td> <td>    3.228</td> <td> 0.001</td> <td>    0.018</td> <td>    0.074</td>\n",
              "</tr>\n",
              "<tr>\n",
              "  <th>x115</th>  <td>   -0.0445</td> <td>    0.010</td> <td>   -4.562</td> <td> 0.000</td> <td>   -0.064</td> <td>   -0.025</td>\n",
              "</tr>\n",
              "<tr>\n",
              "  <th>x116</th>  <td>    0.3931</td> <td>    0.008</td> <td>   51.684</td> <td> 0.000</td> <td>    0.378</td> <td>    0.408</td>\n",
              "</tr>\n",
              "<tr>\n",
              "  <th>x117</th>  <td>   -0.2927</td> <td>    0.009</td> <td>  -30.899</td> <td> 0.000</td> <td>   -0.311</td> <td>   -0.274</td>\n",
              "</tr>\n",
              "<tr>\n",
              "  <th>x118</th>  <td>   -0.1905</td> <td>    0.014</td> <td>  -14.114</td> <td> 0.000</td> <td>   -0.217</td> <td>   -0.164</td>\n",
              "</tr>\n",
              "<tr>\n",
              "  <th>x119</th>  <td>   -0.2869</td> <td>    0.020</td> <td>  -14.345</td> <td> 0.000</td> <td>   -0.326</td> <td>   -0.248</td>\n",
              "</tr>\n",
              "<tr>\n",
              "  <th>x120</th>  <td>    0.0710</td> <td>    0.007</td> <td>   10.391</td> <td> 0.000</td> <td>    0.058</td> <td>    0.084</td>\n",
              "</tr>\n",
              "<tr>\n",
              "  <th>x121</th>  <td>    0.4223</td> <td>    0.012</td> <td>   36.491</td> <td> 0.000</td> <td>    0.400</td> <td>    0.445</td>\n",
              "</tr>\n",
              "<tr>\n",
              "  <th>x122</th>  <td>-4.783e-06</td> <td>    2e-07</td> <td>  -23.889</td> <td> 0.000</td> <td>-5.18e-06</td> <td>-4.39e-06</td>\n",
              "</tr>\n",
              "<tr>\n",
              "  <th>x123</th>  <td> 3.358e-08</td> <td> 2.01e-08</td> <td>    1.672</td> <td> 0.094</td> <td>-5.78e-09</td> <td> 7.29e-08</td>\n",
              "</tr>\n",
              "<tr>\n",
              "  <th>x124</th>  <td>-7.734e-08</td> <td> 5.36e-08</td> <td>   -1.443</td> <td> 0.149</td> <td>-1.82e-07</td> <td> 2.77e-08</td>\n",
              "</tr>\n",
              "</table>"
            ],
            "text/latex": "\\begin{center}\n\\begin{tabular}{lclc}\n\\toprule\n\\textbf{Dep. Variable:}   &  attack\\_state   & \\textbf{  No. Observations:  } &   125972    \\\\\n\\textbf{Model:}           &       GLM        & \\textbf{  Df Residuals:      } &   125852    \\\\\n\\textbf{Model Family:}    &     Gaussian     & \\textbf{  Df Model:          } &      119    \\\\\n\\textbf{Link Function:}   &     Identity     & \\textbf{  Scale:             } &  0.021929   \\\\\n\\textbf{Method:}          &       IRLS       & \\textbf{  Log-Likelihood:    } &    61917.   \\\\\n\\textbf{Date:}            & Sun, 25 Feb 2024 & \\textbf{  Deviance:          } &    2759.8   \\\\\n\\textbf{Time:}            &     06:51:23     & \\textbf{  Pearson chi2:      } &  2.76e+03   \\\\\n\\textbf{No. Iterations:}  &        3         & \\textbf{  Pseudo R-squ. (CS):} &    1.000    \\\\\n\\textbf{Covariance Type:} &    nonrobust     & \\textbf{                     } &             \\\\\n\\bottomrule\n\\end{tabular}\n\\begin{tabular}{lcccccc}\n               & \\textbf{coef} & \\textbf{std err} & \\textbf{z} & \\textbf{P$> |$z$|$} & \\textbf{[0.025} & \\textbf{0.975]}  \\\\\n\\midrule\n\\textbf{const} &      -0.0029  &        0.005     &    -0.544  &         0.587        &       -0.013    &        0.008     \\\\\n\\textbf{x1}    &      -0.3573  &        0.030     &   -11.833  &         0.000        &       -0.416    &       -0.298     \\\\\n\\textbf{x2}    &       0.1395  &        0.002     &    68.163  &         0.000        &        0.135    &        0.144     \\\\\n\\textbf{x3}    &      -0.0318  &        0.029     &    -1.078  &         0.281        &       -0.090    &        0.026     \\\\\n\\textbf{x4}    &       0.0125  &        0.000     &    32.250  &         0.000        &        0.012    &        0.013     \\\\\n\\textbf{x5}    &      -0.0524  &        0.010     &    -5.496  &         0.000        &       -0.071    &       -0.034     \\\\\n\\textbf{x6}    &       0.1497  &        0.003     &    45.117  &         0.000        &        0.143    &        0.156     \\\\\n\\textbf{x7}    &       0.0030  &        0.001     &     5.775  &         0.000        &        0.002    &        0.004     \\\\\n\\textbf{x8}    &      -0.0419  &        0.015     &    -2.858  &         0.004        &       -0.071    &       -0.013     \\\\\n\\textbf{x9}    &      -0.0386  &        0.015     &    -2.560  &         0.010        &       -0.068    &       -0.009     \\\\\n\\textbf{x10}   &      -0.0030  &        0.001     &    -5.741  &         0.000        &       -0.004    &       -0.002     \\\\\n\\textbf{x11}   &      -0.0119  &        0.001     &   -13.278  &         0.000        &       -0.014    &       -0.010     \\\\\n\\textbf{x12}   &      -0.1007  &        0.019     &    -5.281  &         0.000        &       -0.138    &       -0.063     \\\\\n\\textbf{x13}   &       0.0103  &        0.006     &     1.789  &         0.074        &       -0.001    &        0.022     \\\\\n\\textbf{x14}   &    1.738e-15  &     1.14e-15     &     1.518  &         0.129        &    -5.05e-16    &     3.98e-15     \\\\\n\\textbf{x15}   &      -0.3446  &        0.148     &    -2.325  &         0.020        &       -0.635    &       -0.054     \\\\\n\\textbf{x16}   &      -0.2940  &        0.011     &   -27.095  &         0.000        &       -0.315    &       -0.273     \\\\\n\\textbf{x17}   &       0.0384  &        0.001     &    30.633  &         0.000        &        0.036    &        0.041     \\\\\n\\textbf{x18}   &       0.0014  &        0.000     &     6.816  &         0.000        &        0.001    &        0.002     \\\\\n\\textbf{x19}   &      -0.0660  &        0.010     &    -6.291  &         0.000        &       -0.087    &       -0.045     \\\\\n\\textbf{x20}   &       0.2799  &        0.011     &    24.504  &         0.000        &        0.258    &        0.302     \\\\\n\\textbf{x21}   &      -0.1146  &        0.011     &   -10.207  &         0.000        &       -0.137    &       -0.093     \\\\\n\\textbf{x22}   &       0.5408  &        0.013     &    41.412  &         0.000        &        0.515    &        0.566     \\\\\n\\textbf{x23}   &      -0.3340  &        0.003     &   -98.730  &         0.000        &       -0.341    &       -0.327     \\\\\n\\textbf{x24}   &      -0.0076  &        0.000     &   -33.960  &         0.000        &       -0.008    &       -0.007     \\\\\n\\textbf{x25}   &       0.0579  &        0.002     &    27.740  &         0.000        &        0.054    &        0.062     \\\\\n\\textbf{x26}   &       0.0553  &        0.001     &    49.006  &         0.000        &        0.053    &        0.058     \\\\\n\\textbf{x27}   &      -0.0945  &        0.003     &   -32.541  &         0.000        &       -0.100    &       -0.089     \\\\\n\\textbf{x28}   &       0.0049  &        0.003     &     1.440  &         0.150        &       -0.002    &        0.011     \\\\\n\\textbf{x29}   &       0.0098  &        0.000     &    33.792  &         0.000        &        0.009    &        0.010     \\\\\n\\textbf{x30}   &       0.0072  &        0.000     &    46.137  &         0.000        &        0.007    &        0.008     \\\\\n\\textbf{x31}   &       0.0022  &        0.000     &    18.576  &         0.000        &        0.002    &        0.002     \\\\\n\\textbf{x32}   &      -0.0741  &        0.006     &   -11.429  &         0.000        &       -0.087    &       -0.061     \\\\\n\\textbf{x33}   &       0.0657  &        0.008     &     8.185  &         0.000        &        0.050    &        0.081     \\\\\n\\textbf{x34}   &       0.0624  &        0.004     &    13.873  &         0.000        &        0.054    &        0.071     \\\\\n\\textbf{x35}   &       0.2157  &        0.006     &    35.290  &         0.000        &        0.204    &        0.228     \\\\\n\\textbf{x36}   &       0.0021  &        0.001     &     3.964  &         0.000        &        0.001    &        0.003     \\\\\n\\textbf{x37}   &      -0.1544  &        0.001     &  -217.392  &         0.000        &       -0.156    &       -0.153     \\\\\n\\textbf{x38}   &       0.0742  &        0.009     &     8.127  &         0.000        &        0.056    &        0.092     \\\\\n\\textbf{x39}   &      -0.0855  &        0.005     &   -16.612  &         0.000        &       -0.096    &       -0.075     \\\\\n\\textbf{x40}   &       0.0113  &        0.005     &     2.236  &         0.025        &        0.001    &        0.021     \\\\\n\\textbf{x41}   &      -0.4877  &        0.012     &   -40.880  &         0.000        &       -0.511    &       -0.464     \\\\\n\\textbf{x42}   &      -0.2665  &        0.018     &   -15.090  &         0.000        &       -0.301    &       -0.232     \\\\\n\\textbf{x43}   &       0.0247  &        0.006     &     3.840  &         0.000        &        0.012    &        0.037     \\\\\n\\textbf{x44}   &      -0.1116  &        0.103     &    -1.081  &         0.280        &       -0.314    &        0.091     \\\\\n\\textbf{x45}   &      -0.0246  &        0.006     &    -3.936  &         0.000        &       -0.037    &       -0.012     \\\\\n\\textbf{x46}   &       0.0362  &        0.007     &     5.301  &         0.000        &        0.023    &        0.050     \\\\\n\\textbf{x47}   &       0.0691  &        0.007     &    10.172  &         0.000        &        0.056    &        0.082     \\\\\n\\textbf{x48}   &       0.0489  &        0.007     &     6.546  &         0.000        &        0.034    &        0.064     \\\\\n\\textbf{x49}   &       0.0488  &        0.007     &     6.610  &         0.000        &        0.034    &        0.063     \\\\\n\\textbf{x50}   &       0.0317  &        0.008     &     4.166  &         0.000        &        0.017    &        0.047     \\\\\n\\textbf{x51}   &       0.0411  &        0.008     &     5.453  &         0.000        &        0.026    &        0.056     \\\\\n\\textbf{x52}   &      -0.0155  &        0.007     &    -2.114  &         0.035        &       -0.030    &       -0.001     \\\\\n\\textbf{x53}   &      -0.1227  &        0.005     &   -22.576  &         0.000        &       -0.133    &       -0.112     \\\\\n\\textbf{x54}   &       0.0377  &        0.008     &     4.637  &         0.000        &        0.022    &        0.054     \\\\\n\\textbf{x55}   &       0.4245  &        0.014     &    31.172  &         0.000        &        0.398    &        0.451     \\\\\n\\textbf{x56}   &       0.5057  &        0.014     &    36.875  &         0.000        &        0.479    &        0.533     \\\\\n\\textbf{x57}   &       0.0981  &        0.008     &    12.569  &         0.000        &        0.083    &        0.113     \\\\\n\\textbf{x58}   &       0.0800  &        0.008     &    10.125  &         0.000        &        0.065    &        0.096     \\\\\n\\textbf{x59}   &       0.0626  &        0.005     &    11.398  &         0.000        &        0.052    &        0.073     \\\\\n\\textbf{x60}   &       0.0143  &        0.007     &     1.927  &         0.054        &       -0.000    &        0.029     \\\\\n\\textbf{x61}   &      -0.0502  &        0.005     &   -10.470  &         0.000        &       -0.060    &       -0.041     \\\\\n\\textbf{x62}   &       0.0482  &        0.008     &     6.347  &         0.000        &        0.033    &        0.063     \\\\\n\\textbf{x63}   &      -0.2003  &        0.103     &    -1.938  &         0.053        &       -0.403    &        0.002     \\\\\n\\textbf{x64}   &       0.0440  &        0.008     &     5.539  &         0.000        &        0.028    &        0.060     \\\\\n\\textbf{x65}   &      -0.0135  &        0.005     &    -2.772  &         0.006        &       -0.023    &       -0.004     \\\\\n\\textbf{x66}   &      -0.1091  &        0.146     &    -0.748  &         0.455        &       -0.395    &        0.177     \\\\\n\\textbf{x67}   &       0.0698  &        0.008     &     9.237  &         0.000        &        0.055    &        0.085     \\\\\n\\textbf{x68}   &      -0.1977  &        0.103     &    -1.913  &         0.056        &       -0.400    &        0.005     \\\\\n\\textbf{x69}   &       0.0441  &        0.007     &     6.253  &         0.000        &        0.030    &        0.058     \\\\\n\\textbf{x70}   &       0.0312  &        0.007     &     4.515  &         0.000        &        0.018    &        0.045     \\\\\n\\textbf{x71}   &       0.1063  &        0.008     &    13.065  &         0.000        &        0.090    &        0.122     \\\\\n\\textbf{x72}   &       0.0900  &        0.009     &     9.579  &         0.000        &        0.072    &        0.108     \\\\\n\\textbf{x73}   &       0.0709  &        0.008     &     8.556  &         0.000        &        0.055    &        0.087     \\\\\n\\textbf{x74}   &       0.0401  &        0.008     &     5.116  &         0.000        &        0.025    &        0.055     \\\\\n\\textbf{x75}   &       0.0880  &        0.008     &    10.749  &         0.000        &        0.072    &        0.104     \\\\\n\\textbf{x76}   &       0.0392  &        0.008     &     4.852  &         0.000        &        0.023    &        0.055     \\\\\n\\textbf{x77}   &       0.0421  &        0.008     &     5.271  &         0.000        &        0.026    &        0.058     \\\\\n\\textbf{x78}   &       0.0463  &        0.008     &     5.569  &         0.000        &        0.030    &        0.063     \\\\\n\\textbf{x79}   &       0.0555  &        0.009     &     6.287  &         0.000        &        0.038    &        0.073     \\\\\n\\textbf{x80}   &       0.0543  &        0.009     &     6.253  &         0.000        &        0.037    &        0.071     \\\\\n\\textbf{x81}   &       0.0516  &        0.009     &     5.923  &         0.000        &        0.034    &        0.069     \\\\\n\\textbf{x82}   &       0.0879  &        0.007     &    12.324  &         0.000        &        0.074    &        0.102     \\\\\n\\textbf{x83}   &       0.0575  &        0.009     &     6.111  &         0.000        &        0.039    &        0.076     \\\\\n\\textbf{x84}   &      -0.1263  &        0.012     &   -10.269  &         0.000        &       -0.150    &       -0.102     \\\\\n\\textbf{x85}   &      -0.1811  &        0.005     &   -35.298  &         0.000        &       -0.191    &       -0.171     \\\\\n\\textbf{x86}   &      -0.0336  &        0.066     &    -0.511  &         0.610        &       -0.162    &        0.095     \\\\\n\\textbf{x87}   &       0.1270  &        0.017     &     7.466  &         0.000        &        0.094    &        0.160     \\\\\n\\textbf{x88}   &      -0.1009  &        0.010     &   -10.040  &         0.000        &       -0.121    &       -0.081     \\\\\n\\textbf{x89}   &       0.1624  &        0.018     &     8.998  &         0.000        &        0.127    &        0.198     \\\\\n\\textbf{x90}   &       0.1357  &        0.004     &    32.175  &         0.000        &        0.127    &        0.144     \\\\\n\\textbf{x91}   &      -0.1653  &        0.046     &    -3.611  &         0.000        &       -0.255    &       -0.076     \\\\\n\\textbf{x92}   &       0.1310  &        0.017     &     7.701  &         0.000        &        0.098    &        0.164     \\\\\n\\textbf{x93}   &       0.1351  &        0.016     &     8.315  &         0.000        &        0.103    &        0.167     \\\\\n\\textbf{x94}   &       0.1233  &        0.019     &     6.644  &         0.000        &        0.087    &        0.160     \\\\\n\\textbf{x95}   &      -0.0847  &        0.005     &   -16.948  &         0.000        &       -0.094    &       -0.075     \\\\\n\\textbf{x96}   &       0.0929  &        0.010     &     9.134  &         0.000        &        0.073    &        0.113     \\\\\n\\textbf{x97}   &       0.0598  &        0.009     &     6.487  &         0.000        &        0.042    &        0.078     \\\\\n\\textbf{x98}   &       0.0443  &        0.009     &     5.185  &         0.000        &        0.028    &        0.061     \\\\\n\\textbf{x99}   &       0.0478  &        0.007     &     6.401  &         0.000        &        0.033    &        0.062     \\\\\n\\textbf{x100}  &       0.0422  &        0.008     &     5.391  &         0.000        &        0.027    &        0.058     \\\\\n\\textbf{x101}  &      -0.0397  &        0.005     &    -7.566  &         0.000        &       -0.050    &       -0.029     \\\\\n\\textbf{x102}  &      -0.8723  &        0.084     &   -10.337  &         0.000        &       -1.038    &       -0.707     \\\\\n\\textbf{x103}  &      -0.1654  &        0.046     &    -3.613  &         0.000        &       -0.255    &       -0.076     \\\\\n\\textbf{x104}  &       0.0138  &        0.007     &     1.962  &         0.050        &     1.32e-05    &        0.028     \\\\\n\\textbf{x105}  &      -0.1428  &        0.041     &    -3.452  &         0.001        &       -0.224    &       -0.062     \\\\\n\\textbf{x106}  &      -0.3825  &        0.014     &   -26.888  &         0.000        &       -0.410    &       -0.355     \\\\\n\\textbf{x107}  &       0.0723  &        0.007     &    10.778  &         0.000        &        0.059    &        0.085     \\\\\n\\textbf{x108}  &       0.0415  &        0.007     &     6.022  &         0.000        &        0.028    &        0.055     \\\\\n\\textbf{x109}  &       0.0303  &        0.007     &     4.229  &         0.000        &        0.016    &        0.044     \\\\\n\\textbf{x110}  &       0.0413  &        0.007     &     5.994  &         0.000        &        0.028    &        0.055     \\\\\n\\textbf{x111}  &       0.2448  &        0.021     &    11.594  &         0.000        &        0.203    &        0.286     \\\\\n\\textbf{x112}  &      -0.2047  &        0.010     &   -21.491  &         0.000        &       -0.223    &       -0.186     \\\\\n\\textbf{x113}  &      -0.1579  &        0.010     &   -15.873  &         0.000        &       -0.177    &       -0.138     \\\\\n\\textbf{x114}  &       0.0461  &        0.014     &     3.228  &         0.001        &        0.018    &        0.074     \\\\\n\\textbf{x115}  &      -0.0445  &        0.010     &    -4.562  &         0.000        &       -0.064    &       -0.025     \\\\\n\\textbf{x116}  &       0.3931  &        0.008     &    51.684  &         0.000        &        0.378    &        0.408     \\\\\n\\textbf{x117}  &      -0.2927  &        0.009     &   -30.899  &         0.000        &       -0.311    &       -0.274     \\\\\n\\textbf{x118}  &      -0.1905  &        0.014     &   -14.114  &         0.000        &       -0.217    &       -0.164     \\\\\n\\textbf{x119}  &      -0.2869  &        0.020     &   -14.345  &         0.000        &       -0.326    &       -0.248     \\\\\n\\textbf{x120}  &       0.0710  &        0.007     &    10.391  &         0.000        &        0.058    &        0.084     \\\\\n\\textbf{x121}  &       0.4223  &        0.012     &    36.491  &         0.000        &        0.400    &        0.445     \\\\\n\\textbf{x122}  &   -4.783e-06  &        2e-07     &   -23.889  &         0.000        &    -5.18e-06    &    -4.39e-06     \\\\\n\\textbf{x123}  &    3.358e-08  &     2.01e-08     &     1.672  &         0.094        &    -5.78e-09    &     7.29e-08     \\\\\n\\textbf{x124}  &   -7.734e-08  &     5.36e-08     &    -1.443  &         0.149        &    -1.82e-07    &     2.77e-08     \\\\\n\\bottomrule\n\\end{tabular}\n%\\caption{Generalized Linear Model Regression Results}\n\\end{center}"
          },
          "metadata": {},
          "execution_count": 100
        }
      ]
    },
    {
      "cell_type": "code",
      "source": [
        "def Evaluate(Model_Name, Model_Abb, X_test, Y_test):\n",
        "\n",
        "    Pred_Value= Model_Abb.predict(X_test)\n",
        "    Accuracy = metrics.accuracy_score(Y_test,Pred_Value)\n",
        "    Sensitivity = metrics.recall_score(Y_test,Pred_Value)\n",
        "    Precision = metrics.precision_score(Y_test,Pred_Value)\n",
        "    F1_score = metrics.f1_score(Y_test,Pred_Value)\n",
        "    Recall = metrics.recall_score(Y_test,Pred_Value)\n",
        "\n",
        "    print('--------------------------------------------------\\n')\n",
        "    print('The {} Model Accuracy   = {}\\n'.format(Model_Name, np.round(Accuracy,3)))\n",
        "    print('The {} Model Sensitvity = {}\\n'.format(Model_Name, np.round(Sensitivity,3)))\n",
        "    print('The {} Model Precision  = {}\\n'.format(Model_Name, np.round(Precision,3)))\n",
        "    print('The {} Model F1 Score   = {}\\n'.format(Model_Name, np.round(F1_score,3)))\n",
        "    print('The {} Model Recall     = {}\\n'.format(Model_Name, np.round(Recall,3)))\n",
        "    print('--------------------------------------------------\\n')\n",
        "\n",
        "    Confusion_Matrix = metrics.confusion_matrix(Y_test, Pred_Value)\n",
        "    plot_confusion_matrix(Confusion_Matrix,class_names=['Normal', 'Attack'],figsize=(5.55,5), colorbar= \"blue\")\n"
      ],
      "metadata": {
        "id": "2-NdX4hwF42M"
      },
      "execution_count": 128,
      "outputs": []
    },
    {
      "cell_type": "code",
      "source": [
        "def GridSearch(Model_Abb, Parameters, X_train, Y_train):\n",
        "    Grid = GridSearchCV(estimator=Model_Abb, param_grid= Parameters, cv = 3, n_jobs=-1)\n",
        "    Grid_Result = Grid.fit(X_train, Y_train)\n",
        "    Model_Name = Grid_Result.best_estimator_\n",
        "\n",
        "    return (Model_Name)"
      ],
      "metadata": {
        "id": "UoPuD-LXHUO6"
      },
      "execution_count": 129,
      "outputs": []
    },
    {
      "cell_type": "code",
      "source": [
        "max_depth= [1, 2, 3, 4, 5, 6, 7, 8, 9, 10, 11]\n",
        "\n",
        "Parameters={ 'max_depth': max_depth}"
      ],
      "metadata": {
        "id": "mx1929anLmU0"
      },
      "execution_count": null,
      "outputs": []
    },
    {
      "cell_type": "code",
      "source": [
        "RF= RandomForestClassifier()\n",
        "GridSearch(RF, Parameters, X_train, Y_train)"
      ],
      "metadata": {
        "colab": {
          "base_uri": "https://localhost:8080/",
          "height": 75
        },
        "id": "DHDYkvIeLodo",
        "outputId": "240d8d3b-a178-4627-f450-b31681351b58"
      },
      "execution_count": null,
      "outputs": [
        {
          "output_type": "execute_result",
          "data": {
            "text/plain": [
              "RandomForestClassifier(max_depth=11)"
            ],
            "text/html": [
              "<style>#sk-container-id-1 {color: black;background-color: white;}#sk-container-id-1 pre{padding: 0;}#sk-container-id-1 div.sk-toggleable {background-color: white;}#sk-container-id-1 label.sk-toggleable__label {cursor: pointer;display: block;width: 100%;margin-bottom: 0;padding: 0.3em;box-sizing: border-box;text-align: center;}#sk-container-id-1 label.sk-toggleable__label-arrow:before {content: \"▸\";float: left;margin-right: 0.25em;color: #696969;}#sk-container-id-1 label.sk-toggleable__label-arrow:hover:before {color: black;}#sk-container-id-1 div.sk-estimator:hover label.sk-toggleable__label-arrow:before {color: black;}#sk-container-id-1 div.sk-toggleable__content {max-height: 0;max-width: 0;overflow: hidden;text-align: left;background-color: #f0f8ff;}#sk-container-id-1 div.sk-toggleable__content pre {margin: 0.2em;color: black;border-radius: 0.25em;background-color: #f0f8ff;}#sk-container-id-1 input.sk-toggleable__control:checked~div.sk-toggleable__content {max-height: 200px;max-width: 100%;overflow: auto;}#sk-container-id-1 input.sk-toggleable__control:checked~label.sk-toggleable__label-arrow:before {content: \"▾\";}#sk-container-id-1 div.sk-estimator input.sk-toggleable__control:checked~label.sk-toggleable__label {background-color: #d4ebff;}#sk-container-id-1 div.sk-label input.sk-toggleable__control:checked~label.sk-toggleable__label {background-color: #d4ebff;}#sk-container-id-1 input.sk-hidden--visually {border: 0;clip: rect(1px 1px 1px 1px);clip: rect(1px, 1px, 1px, 1px);height: 1px;margin: -1px;overflow: hidden;padding: 0;position: absolute;width: 1px;}#sk-container-id-1 div.sk-estimator {font-family: monospace;background-color: #f0f8ff;border: 1px dotted black;border-radius: 0.25em;box-sizing: border-box;margin-bottom: 0.5em;}#sk-container-id-1 div.sk-estimator:hover {background-color: #d4ebff;}#sk-container-id-1 div.sk-parallel-item::after {content: \"\";width: 100%;border-bottom: 1px solid gray;flex-grow: 1;}#sk-container-id-1 div.sk-label:hover label.sk-toggleable__label {background-color: #d4ebff;}#sk-container-id-1 div.sk-serial::before {content: \"\";position: absolute;border-left: 1px solid gray;box-sizing: border-box;top: 0;bottom: 0;left: 50%;z-index: 0;}#sk-container-id-1 div.sk-serial {display: flex;flex-direction: column;align-items: center;background-color: white;padding-right: 0.2em;padding-left: 0.2em;position: relative;}#sk-container-id-1 div.sk-item {position: relative;z-index: 1;}#sk-container-id-1 div.sk-parallel {display: flex;align-items: stretch;justify-content: center;background-color: white;position: relative;}#sk-container-id-1 div.sk-item::before, #sk-container-id-1 div.sk-parallel-item::before {content: \"\";position: absolute;border-left: 1px solid gray;box-sizing: border-box;top: 0;bottom: 0;left: 50%;z-index: -1;}#sk-container-id-1 div.sk-parallel-item {display: flex;flex-direction: column;z-index: 1;position: relative;background-color: white;}#sk-container-id-1 div.sk-parallel-item:first-child::after {align-self: flex-end;width: 50%;}#sk-container-id-1 div.sk-parallel-item:last-child::after {align-self: flex-start;width: 50%;}#sk-container-id-1 div.sk-parallel-item:only-child::after {width: 0;}#sk-container-id-1 div.sk-dashed-wrapped {border: 1px dashed gray;margin: 0 0.4em 0.5em 0.4em;box-sizing: border-box;padding-bottom: 0.4em;background-color: white;}#sk-container-id-1 div.sk-label label {font-family: monospace;font-weight: bold;display: inline-block;line-height: 1.2em;}#sk-container-id-1 div.sk-label-container {text-align: center;}#sk-container-id-1 div.sk-container {/* jupyter's `normalize.less` sets `[hidden] { display: none; }` but bootstrap.min.css set `[hidden] { display: none !important; }` so we also need the `!important` here to be able to override the default hidden behavior on the sphinx rendered scikit-learn.org. See: https://github.com/scikit-learn/scikit-learn/issues/21755 */display: inline-block !important;position: relative;}#sk-container-id-1 div.sk-text-repr-fallback {display: none;}</style><div id=\"sk-container-id-1\" class=\"sk-top-container\"><div class=\"sk-text-repr-fallback\"><pre>RandomForestClassifier(max_depth=11)</pre><b>In a Jupyter environment, please rerun this cell to show the HTML representation or trust the notebook. <br />On GitHub, the HTML representation is unable to render, please try loading this page with nbviewer.org.</b></div><div class=\"sk-container\" hidden><div class=\"sk-item\"><div class=\"sk-estimator sk-toggleable\"><input class=\"sk-toggleable__control sk-hidden--visually\" id=\"sk-estimator-id-1\" type=\"checkbox\" checked><label for=\"sk-estimator-id-1\" class=\"sk-toggleable__label sk-toggleable__label-arrow\">RandomForestClassifier</label><div class=\"sk-toggleable__content\"><pre>RandomForestClassifier(max_depth=11)</pre></div></div></div></div></div>"
            ]
          },
          "metadata": {},
          "execution_count": 23
        }
      ]
    },
    {
      "cell_type": "code",
      "source": [
        "RF.fit(X_train, Y_train)"
      ],
      "metadata": {
        "colab": {
          "base_uri": "https://localhost:8080/",
          "height": 75
        },
        "id": "zqC5jL-UL4aY",
        "outputId": "ba0d5692-3a3b-4182-8ec1-7b81d824c2bc"
      },
      "execution_count": null,
      "outputs": [
        {
          "output_type": "execute_result",
          "data": {
            "text/plain": [
              "RandomForestClassifier()"
            ],
            "text/html": [
              "<style>#sk-container-id-2 {color: black;background-color: white;}#sk-container-id-2 pre{padding: 0;}#sk-container-id-2 div.sk-toggleable {background-color: white;}#sk-container-id-2 label.sk-toggleable__label {cursor: pointer;display: block;width: 100%;margin-bottom: 0;padding: 0.3em;box-sizing: border-box;text-align: center;}#sk-container-id-2 label.sk-toggleable__label-arrow:before {content: \"▸\";float: left;margin-right: 0.25em;color: #696969;}#sk-container-id-2 label.sk-toggleable__label-arrow:hover:before {color: black;}#sk-container-id-2 div.sk-estimator:hover label.sk-toggleable__label-arrow:before {color: black;}#sk-container-id-2 div.sk-toggleable__content {max-height: 0;max-width: 0;overflow: hidden;text-align: left;background-color: #f0f8ff;}#sk-container-id-2 div.sk-toggleable__content pre {margin: 0.2em;color: black;border-radius: 0.25em;background-color: #f0f8ff;}#sk-container-id-2 input.sk-toggleable__control:checked~div.sk-toggleable__content {max-height: 200px;max-width: 100%;overflow: auto;}#sk-container-id-2 input.sk-toggleable__control:checked~label.sk-toggleable__label-arrow:before {content: \"▾\";}#sk-container-id-2 div.sk-estimator input.sk-toggleable__control:checked~label.sk-toggleable__label {background-color: #d4ebff;}#sk-container-id-2 div.sk-label input.sk-toggleable__control:checked~label.sk-toggleable__label {background-color: #d4ebff;}#sk-container-id-2 input.sk-hidden--visually {border: 0;clip: rect(1px 1px 1px 1px);clip: rect(1px, 1px, 1px, 1px);height: 1px;margin: -1px;overflow: hidden;padding: 0;position: absolute;width: 1px;}#sk-container-id-2 div.sk-estimator {font-family: monospace;background-color: #f0f8ff;border: 1px dotted black;border-radius: 0.25em;box-sizing: border-box;margin-bottom: 0.5em;}#sk-container-id-2 div.sk-estimator:hover {background-color: #d4ebff;}#sk-container-id-2 div.sk-parallel-item::after {content: \"\";width: 100%;border-bottom: 1px solid gray;flex-grow: 1;}#sk-container-id-2 div.sk-label:hover label.sk-toggleable__label {background-color: #d4ebff;}#sk-container-id-2 div.sk-serial::before {content: \"\";position: absolute;border-left: 1px solid gray;box-sizing: border-box;top: 0;bottom: 0;left: 50%;z-index: 0;}#sk-container-id-2 div.sk-serial {display: flex;flex-direction: column;align-items: center;background-color: white;padding-right: 0.2em;padding-left: 0.2em;position: relative;}#sk-container-id-2 div.sk-item {position: relative;z-index: 1;}#sk-container-id-2 div.sk-parallel {display: flex;align-items: stretch;justify-content: center;background-color: white;position: relative;}#sk-container-id-2 div.sk-item::before, #sk-container-id-2 div.sk-parallel-item::before {content: \"\";position: absolute;border-left: 1px solid gray;box-sizing: border-box;top: 0;bottom: 0;left: 50%;z-index: -1;}#sk-container-id-2 div.sk-parallel-item {display: flex;flex-direction: column;z-index: 1;position: relative;background-color: white;}#sk-container-id-2 div.sk-parallel-item:first-child::after {align-self: flex-end;width: 50%;}#sk-container-id-2 div.sk-parallel-item:last-child::after {align-self: flex-start;width: 50%;}#sk-container-id-2 div.sk-parallel-item:only-child::after {width: 0;}#sk-container-id-2 div.sk-dashed-wrapped {border: 1px dashed gray;margin: 0 0.4em 0.5em 0.4em;box-sizing: border-box;padding-bottom: 0.4em;background-color: white;}#sk-container-id-2 div.sk-label label {font-family: monospace;font-weight: bold;display: inline-block;line-height: 1.2em;}#sk-container-id-2 div.sk-label-container {text-align: center;}#sk-container-id-2 div.sk-container {/* jupyter's `normalize.less` sets `[hidden] { display: none; }` but bootstrap.min.css set `[hidden] { display: none !important; }` so we also need the `!important` here to be able to override the default hidden behavior on the sphinx rendered scikit-learn.org. See: https://github.com/scikit-learn/scikit-learn/issues/21755 */display: inline-block !important;position: relative;}#sk-container-id-2 div.sk-text-repr-fallback {display: none;}</style><div id=\"sk-container-id-2\" class=\"sk-top-container\"><div class=\"sk-text-repr-fallback\"><pre>RandomForestClassifier()</pre><b>In a Jupyter environment, please rerun this cell to show the HTML representation or trust the notebook. <br />On GitHub, the HTML representation is unable to render, please try loading this page with nbviewer.org.</b></div><div class=\"sk-container\" hidden><div class=\"sk-item\"><div class=\"sk-estimator sk-toggleable\"><input class=\"sk-toggleable__control sk-hidden--visually\" id=\"sk-estimator-id-2\" type=\"checkbox\" checked><label for=\"sk-estimator-id-2\" class=\"sk-toggleable__label sk-toggleable__label-arrow\">RandomForestClassifier</label><div class=\"sk-toggleable__content\"><pre>RandomForestClassifier()</pre></div></div></div></div></div>"
            ]
          },
          "metadata": {},
          "execution_count": 24
        }
      ]
    },
    {
      "cell_type": "code",
      "source": [
        "RF.score(X_test, Y_test)"
      ],
      "metadata": {
        "colab": {
          "base_uri": "https://localhost:8080/"
        },
        "id": "nCxxvQfrL-mq",
        "outputId": "6e4b7c39-037c-4050-8cb2-d53de57b8644"
      },
      "execution_count": null,
      "outputs": [
        {
          "output_type": "execute_result",
          "data": {
            "text/plain": [
              "0.9607416936521315"
            ]
          },
          "metadata": {},
          "execution_count": 25
        }
      ]
    },
    {
      "cell_type": "code",
      "source": [
        "\n",
        "from sklearn.metrics import roc_curve"
      ],
      "metadata": {
        "id": "ayln9-3sM7Z2"
      },
      "execution_count": null,
      "outputs": []
    },
    {
      "cell_type": "code",
      "source": [],
      "metadata": {
        "id": "O9ye7GzDQ-7_"
      },
      "execution_count": null,
      "outputs": []
    },
    {
      "cell_type": "code",
      "source": [
        "Evaluate('Random Forest Classifier', RF, X_test, Y_test)"
      ],
      "metadata": {
        "colab": {
          "base_uri": "https://localhost:8080/",
          "height": 726
        },
        "id": "FX09cIGyMDWH",
        "outputId": "740b9b36-d59f-4686-de2b-19f6282eff1e"
      },
      "execution_count": null,
      "outputs": [
        {
          "output_type": "stream",
          "name": "stdout",
          "text": [
            "--------------------------------------------------\n",
            "\n",
            "The Random Forest Classifier Model Accuracy   = 0.961\n",
            "\n",
            "The Random Forest Classifier Model Sensitvity = 0.95\n",
            "\n",
            "The Random Forest Classifier Model Precision  = 0.98\n",
            "\n",
            "The Random Forest Classifier Model F1 Score   = 0.965\n",
            "\n",
            "The Random Forest Classifier Model Recall     = 0.95\n",
            "\n",
            "--------------------------------------------------\n",
            "\n"
          ]
        },
        {
          "output_type": "display_data",
          "data": {
            "text/plain": [
              "<Figure size 555x500 with 2 Axes>"
            ],
            "image/png": "[encoded data removed]"
          },
          "metadata": {}
        }
      ]
    },
    {
      "cell_type": "code",
      "source": [
        "\n",
        "import numpy as np\n",
        "from sklearn.metrics import confusion_matrix\n",
        "import pandas as pd\n",
        "\n",
        "cm = confusion_matrix(Y_test, RF.predict(X_test))\n",
        "\n",
        "cm_norm = cm.astype('float') / cm.sum(axis=1)[:, np.newaxis]\n",
        "\n",
        "cm_df = pd.DataFrame(cm_norm, columns=['Normal', 'Attack'], index=['Normal', 'Attack'])\n",
        "\n",
        "print(cm_df)\n"
      ],
      "metadata": {
        "colab": {
          "base_uri": "https://localhost:8080/"
        },
        "id": "c1_-L3vJOid3",
        "outputId": "d82be29f-6433-4777-c039-5393f4a0440e"
      },
      "execution_count": null,
      "outputs": [
        {
          "output_type": "stream",
          "name": "stdout",
          "text": [
            "          Normal    Attack\n",
            "Normal  0.974771  0.025229\n",
            "Attack  0.049875  0.950125\n"
          ]
        }
      ]
    },
    {
      "cell_type": "code",
      "source": [
        "KNN= KNeighborsClassifier(n_neighbors=6)\n",
        "KNN.fit(X_train, Y_train)"
      ],
      "metadata": {
        "colab": {
          "base_uri": "https://localhost:8080/",
          "height": 75
        },
        "id": "KmQpD8sVfrGY",
        "outputId": "d531e104-c53a-479b-b98e-90a93a75ade8"
      },
      "execution_count": null,
      "outputs": [
        {
          "output_type": "execute_result",
          "data": {
            "text/plain": [
              "KNeighborsClassifier(n_neighbors=6)"
            ],
            "text/html": [
              "<style>#sk-container-id-3 {color: black;background-color: white;}#sk-container-id-3 pre{padding: 0;}#sk-container-id-3 div.sk-toggleable {background-color: white;}#sk-container-id-3 label.sk-toggleable__label {cursor: pointer;display: block;width: 100%;margin-bottom: 0;padding: 0.3em;box-sizing: border-box;text-align: center;}#sk-container-id-3 label.sk-toggleable__label-arrow:before {content: \"▸\";float: left;margin-right: 0.25em;color: #696969;}#sk-container-id-3 label.sk-toggleable__label-arrow:hover:before {color: black;}#sk-container-id-3 div.sk-estimator:hover label.sk-toggleable__label-arrow:before {color: black;}#sk-container-id-3 div.sk-toggleable__content {max-height: 0;max-width: 0;overflow: hidden;text-align: left;background-color: #f0f8ff;}#sk-container-id-3 div.sk-toggleable__content pre {margin: 0.2em;color: black;border-radius: 0.25em;background-color: #f0f8ff;}#sk-container-id-3 input.sk-toggleable__control:checked~div.sk-toggleable__content {max-height: 200px;max-width: 100%;overflow: auto;}#sk-container-id-3 input.sk-toggleable__control:checked~label.sk-toggleable__label-arrow:before {content: \"▾\";}#sk-container-id-3 div.sk-estimator input.sk-toggleable__control:checked~label.sk-toggleable__label {background-color: #d4ebff;}#sk-container-id-3 div.sk-label input.sk-toggleable__control:checked~label.sk-toggleable__label {background-color: #d4ebff;}#sk-container-id-3 input.sk-hidden--visually {border: 0;clip: rect(1px 1px 1px 1px);clip: rect(1px, 1px, 1px, 1px);height: 1px;margin: -1px;overflow: hidden;padding: 0;position: absolute;width: 1px;}#sk-container-id-3 div.sk-estimator {font-family: monospace;background-color: #f0f8ff;border: 1px dotted black;border-radius: 0.25em;box-sizing: border-box;margin-bottom: 0.5em;}#sk-container-id-3 div.sk-estimator:hover {background-color: #d4ebff;}#sk-container-id-3 div.sk-parallel-item::after {content: \"\";width: 100%;border-bottom: 1px solid gray;flex-grow: 1;}#sk-container-id-3 div.sk-label:hover label.sk-toggleable__label {background-color: #d4ebff;}#sk-container-id-3 div.sk-serial::before {content: \"\";position: absolute;border-left: 1px solid gray;box-sizing: border-box;top: 0;bottom: 0;left: 50%;z-index: 0;}#sk-container-id-3 div.sk-serial {display: flex;flex-direction: column;align-items: center;background-color: white;padding-right: 0.2em;padding-left: 0.2em;position: relative;}#sk-container-id-3 div.sk-item {position: relative;z-index: 1;}#sk-container-id-3 div.sk-parallel {display: flex;align-items: stretch;justify-content: center;background-color: white;position: relative;}#sk-container-id-3 div.sk-item::before, #sk-container-id-3 div.sk-parallel-item::before {content: \"\";position: absolute;border-left: 1px solid gray;box-sizing: border-box;top: 0;bottom: 0;left: 50%;z-index: -1;}#sk-container-id-3 div.sk-parallel-item {display: flex;flex-direction: column;z-index: 1;position: relative;background-color: white;}#sk-container-id-3 div.sk-parallel-item:first-child::after {align-self: flex-end;width: 50%;}#sk-container-id-3 div.sk-parallel-item:last-child::after {align-self: flex-start;width: 50%;}#sk-container-id-3 div.sk-parallel-item:only-child::after {width: 0;}#sk-container-id-3 div.sk-dashed-wrapped {border: 1px dashed gray;margin: 0 0.4em 0.5em 0.4em;box-sizing: border-box;padding-bottom: 0.4em;background-color: white;}#sk-container-id-3 div.sk-label label {font-family: monospace;font-weight: bold;display: inline-block;line-height: 1.2em;}#sk-container-id-3 div.sk-label-container {text-align: center;}#sk-container-id-3 div.sk-container {/* jupyter's `normalize.less` sets `[hidden] { display: none; }` but bootstrap.min.css set `[hidden] { display: none !important; }` so we also need the `!important` here to be able to override the default hidden behavior on the sphinx rendered scikit-learn.org. See: https://github.com/scikit-learn/scikit-learn/issues/21755 */display: inline-block !important;position: relative;}#sk-container-id-3 div.sk-text-repr-fallback {display: none;}</style><div id=\"sk-container-id-3\" class=\"sk-top-container\"><div class=\"sk-text-repr-fallback\"><pre>KNeighborsClassifier(n_neighbors=6)</pre><b>In a Jupyter environment, please rerun this cell to show the HTML representation or trust the notebook. <br />On GitHub, the HTML representation is unable to render, please try loading this page with nbviewer.org.</b></div><div class=\"sk-container\" hidden><div class=\"sk-item\"><div class=\"sk-estimator sk-toggleable\"><input class=\"sk-toggleable__control sk-hidden--visually\" id=\"sk-estimator-id-3\" type=\"checkbox\" checked><label for=\"sk-estimator-id-3\" class=\"sk-toggleable__label sk-toggleable__label-arrow\">KNeighborsClassifier</label><div class=\"sk-toggleable__content\"><pre>KNeighborsClassifier(n_neighbors=6)</pre></div></div></div></div></div>"
            ]
          },
          "metadata": {},
          "execution_count": 29
        }
      ]
    },
    {
      "cell_type": "code",
      "source": [
        "Evaluate('K Nearest neighbor', KNN, X_test, Y_test)"
      ],
      "metadata": {
        "colab": {
          "base_uri": "https://localhost:8080/",
          "height": 726
        },
        "id": "RJgyvwZYitYh",
        "outputId": "87688552-dd36-449e-80eb-4e53be3f3e46"
      },
      "execution_count": null,
      "outputs": [
        {
          "output_type": "stream",
          "name": "stdout",
          "text": [
            "--------------------------------------------------\n",
            "\n",
            "The K Nearest neighbor Model Accuracy   = 0.842\n",
            "\n",
            "The K Nearest neighbor Model Sensitvity = 0.735\n",
            "\n",
            "The K Nearest neighbor Model Precision  = 0.982\n",
            "\n",
            "The K Nearest neighbor Model F1 Score   = 0.841\n",
            "\n",
            "The K Nearest neighbor Model Recall     = 0.735\n",
            "\n",
            "--------------------------------------------------\n",
            "\n"
          ]
        },
        {
          "output_type": "display_data",
          "data": {
            "text/plain": [
              "<Figure size 555x500 with 2 Axes>"
            ],
            "image/png": "[encoded data removed]"
          },
          "metadata": {}
        }
      ]
    },
    {
      "cell_type": "code",
      "source": [
        "import numpy as np\n",
        "from sklearn.metrics import confusion_matrix\n",
        "import pandas as pd\n",
        "\n",
        "cm = confusion_matrix(Y_test, KNN.predict(X_test))\n",
        "\n",
        "cm_norm = cm.astype('float') / cm.sum(axis=1)[:, np.newaxis]\n",
        "\n",
        "cm_df = pd.DataFrame(cm_norm, columns=['Normal', 'Attack'], index=['Normal', 'Attack'])\n",
        "\n",
        "print(cm_df)"
      ],
      "metadata": {
        "colab": {
          "base_uri": "https://localhost:8080/"
        },
        "id": "80QusRfrf5FJ",
        "outputId": "c4193992-19ca-4249-f3ce-7f2b5ec4b960"
      },
      "execution_count": null,
      "outputs": [
        {
          "output_type": "stream",
          "name": "stdout",
          "text": [
            "          Normal    Attack\n",
            "Normal  0.982391  0.017609\n",
            "Attack  0.264807  0.735193\n"
          ]
        }
      ]
    },
    {
      "cell_type": "code",
      "source": [
        "Linear_SVC = svm.LinearSVC(C=1)\n",
        "Linear_SVC.fit(X_train, Y_train)"
      ],
      "metadata": {
        "colab": {
          "base_uri": "https://localhost:8080/",
          "height": 75
        },
        "id": "elmkE0gKfuIT",
        "outputId": "b5daa132-3894-4fde-b1a3-23da9dab54ab"
      },
      "execution_count": null,
      "outputs": [
        {
          "output_type": "execute_result",
          "data": {
            "text/plain": [
              "LinearSVC(C=1)"
            ],
            "text/html": [
              "<style>#sk-container-id-4 {color: black;background-color: white;}#sk-container-id-4 pre{padding: 0;}#sk-container-id-4 div.sk-toggleable {background-color: white;}#sk-container-id-4 label.sk-toggleable__label {cursor: pointer;display: block;width: 100%;margin-bottom: 0;padding: 0.3em;box-sizing: border-box;text-align: center;}#sk-container-id-4 label.sk-toggleable__label-arrow:before {content: \"▸\";float: left;margin-right: 0.25em;color: #696969;}#sk-container-id-4 label.sk-toggleable__label-arrow:hover:before {color: black;}#sk-container-id-4 div.sk-estimator:hover label.sk-toggleable__label-arrow:before {color: black;}#sk-container-id-4 div.sk-toggleable__content {max-height: 0;max-width: 0;overflow: hidden;text-align: left;background-color: #f0f8ff;}#sk-container-id-4 div.sk-toggleable__content pre {margin: 0.2em;color: black;border-radius: 0.25em;background-color: #f0f8ff;}#sk-container-id-4 input.sk-toggleable__control:checked~div.sk-toggleable__content {max-height: 200px;max-width: 100%;overflow: auto;}#sk-container-id-4 input.sk-toggleable__control:checked~label.sk-toggleable__label-arrow:before {content: \"▾\";}#sk-container-id-4 div.sk-estimator input.sk-toggleable__control:checked~label.sk-toggleable__label {background-color: #d4ebff;}#sk-container-id-4 div.sk-label input.sk-toggleable__control:checked~label.sk-toggleable__label {background-color: #d4ebff;}#sk-container-id-4 input.sk-hidden--visually {border: 0;clip: rect(1px 1px 1px 1px);clip: rect(1px, 1px, 1px, 1px);height: 1px;margin: -1px;overflow: hidden;padding: 0;position: absolute;width: 1px;}#sk-container-id-4 div.sk-estimator {font-family: monospace;background-color: #f0f8ff;border: 1px dotted black;border-radius: 0.25em;box-sizing: border-box;margin-bottom: 0.5em;}#sk-container-id-4 div.sk-estimator:hover {background-color: #d4ebff;}#sk-container-id-4 div.sk-parallel-item::after {content: \"\";width: 100%;border-bottom: 1px solid gray;flex-grow: 1;}#sk-container-id-4 div.sk-label:hover label.sk-toggleable__label {background-color: #d4ebff;}#sk-container-id-4 div.sk-serial::before {content: \"\";position: absolute;border-left: 1px solid gray;box-sizing: border-box;top: 0;bottom: 0;left: 50%;z-index: 0;}#sk-container-id-4 div.sk-serial {display: flex;flex-direction: column;align-items: center;background-color: white;padding-right: 0.2em;padding-left: 0.2em;position: relative;}#sk-container-id-4 div.sk-item {position: relative;z-index: 1;}#sk-container-id-4 div.sk-parallel {display: flex;align-items: stretch;justify-content: center;background-color: white;position: relative;}#sk-container-id-4 div.sk-item::before, #sk-container-id-4 div.sk-parallel-item::before {content: \"\";position: absolute;border-left: 1px solid gray;box-sizing: border-box;top: 0;bottom: 0;left: 50%;z-index: -1;}#sk-container-id-4 div.sk-parallel-item {display: flex;flex-direction: column;z-index: 1;position: relative;background-color: white;}#sk-container-id-4 div.sk-parallel-item:first-child::after {align-self: flex-end;width: 50%;}#sk-container-id-4 div.sk-parallel-item:last-child::after {align-self: flex-start;width: 50%;}#sk-container-id-4 div.sk-parallel-item:only-child::after {width: 0;}#sk-container-id-4 div.sk-dashed-wrapped {border: 1px dashed gray;margin: 0 0.4em 0.5em 0.4em;box-sizing: border-box;padding-bottom: 0.4em;background-color: white;}#sk-container-id-4 div.sk-label label {font-family: monospace;font-weight: bold;display: inline-block;line-height: 1.2em;}#sk-container-id-4 div.sk-label-container {text-align: center;}#sk-container-id-4 div.sk-container {/* jupyter's `normalize.less` sets `[hidden] { display: none; }` but bootstrap.min.css set `[hidden] { display: none !important; }` so we also need the `!important` here to be able to override the default hidden behavior on the sphinx rendered scikit-learn.org. See: https://github.com/scikit-learn/scikit-learn/issues/21755 */display: inline-block !important;position: relative;}#sk-container-id-4 div.sk-text-repr-fallback {display: none;}</style><div id=\"sk-container-id-4\" class=\"sk-top-container\"><div class=\"sk-text-repr-fallback\"><pre>LinearSVC(C=1)</pre><b>In a Jupyter environment, please rerun this cell to show the HTML representation or trust the notebook. <br />On GitHub, the HTML representation is unable to render, please try loading this page with nbviewer.org.</b></div><div class=\"sk-container\" hidden><div class=\"sk-item\"><div class=\"sk-estimator sk-toggleable\"><input class=\"sk-toggleable__control sk-hidden--visually\" id=\"sk-estimator-id-4\" type=\"checkbox\" checked><label for=\"sk-estimator-id-4\" class=\"sk-toggleable__label sk-toggleable__label-arrow\">LinearSVC</label><div class=\"sk-toggleable__content\"><pre>LinearSVC(C=1)</pre></div></div></div></div></div>"
            ]
          },
          "metadata": {},
          "execution_count": 32
        }
      ]
    },
    {
      "cell_type": "code",
      "source": [
        "Evaluate('Linear SVC', Linear_SVC, X_test, Y_test)"
      ],
      "metadata": {
        "colab": {
          "base_uri": "https://localhost:8080/",
          "height": 726
        },
        "id": "oAy3fUowi3D9",
        "outputId": "0810d382-280a-4564-b0ad-1e5e989a5316"
      },
      "execution_count": null,
      "outputs": [
        {
          "output_type": "stream",
          "name": "stdout",
          "text": [
            "--------------------------------------------------\n",
            "\n",
            "The Linear SVC Model Accuracy   = 0.845\n",
            "\n",
            "The Linear SVC Model Sensitvity = 0.801\n",
            "\n",
            "The Linear SVC Model Precision  = 0.917\n",
            "\n",
            "The Linear SVC Model F1 Score   = 0.855\n",
            "\n",
            "The Linear SVC Model Recall     = 0.801\n",
            "\n",
            "--------------------------------------------------\n",
            "\n"
          ]
        },
        {
          "output_type": "display_data",
          "data": {
            "text/plain": [
              "<Figure size 555x500 with 2 Axes>"
            ],
            "image/png": "[encoded data removed]"
          },
          "metadata": {}
        }
      ]
    },
    {
      "cell_type": "code",
      "source": [
        "import numpy as np\n",
        "from sklearn.metrics import confusion_matrix\n",
        "import pandas as pd\n",
        "\n",
        "cm = confusion_matrix(Y_test, Linear_SVC.predict(X_test))\n",
        "\n",
        "cm_norm = cm.astype('float') / cm.sum(axis=1)[:, np.newaxis]\n",
        "\n",
        "cm_df = pd.DataFrame(cm_norm, columns=['Normal', 'Attack'], index=['Normal', 'Attack'])\n",
        "\n",
        "print(cm_df)"
      ],
      "metadata": {
        "colab": {
          "base_uri": "https://localhost:8080/"
        },
        "id": "ruwK55ljf_CZ",
        "outputId": "f0b7ddc4-0e1d-43a7-ac55-6116c7364f03"
      },
      "execution_count": null,
      "outputs": [
        {
          "output_type": "stream",
          "name": "stdout",
          "text": [
            "          Normal    Attack\n",
            "Normal  0.904541  0.095459\n",
            "Attack  0.199423  0.800577\n"
          ]
        }
      ]
    },
    {
      "cell_type": "code",
      "source": [
        "\n",
        "from sklearn.cluster import KMeans\n",
        "kmeans = KMeans(n_clusters=7)\n",
        "kmeans.fit(X_train)\n"
      ],
      "metadata": {
        "colab": {
          "base_uri": "https://localhost:8080/",
          "height": 75
        },
        "id": "0k-yKyBK5xO0",
        "outputId": "f3f42b1d-d593-4190-e9e8-4f11a774d85f"
      },
      "execution_count": 130,
      "outputs": [
        {
          "output_type": "execute_result",
          "data": {
            "text/plain": [
              "KMeans(n_clusters=7)"
            ],
            "text/html": [
              "<style>#sk-container-id-12 {color: black;background-color: white;}#sk-container-id-12 pre{padding: 0;}#sk-container-id-12 div.sk-toggleable {background-color: white;}#sk-container-id-12 label.sk-toggleable__label {cursor: pointer;display: block;width: 100%;margin-bottom: 0;padding: 0.3em;box-sizing: border-box;text-align: center;}#sk-container-id-12 label.sk-toggleable__label-arrow:before {content: \"▸\";float: left;margin-right: 0.25em;color: #696969;}#sk-container-id-12 label.sk-toggleable__label-arrow:hover:before {color: black;}#sk-container-id-12 div.sk-estimator:hover label.sk-toggleable__label-arrow:before {color: black;}#sk-container-id-12 div.sk-toggleable__content {max-height: 0;max-width: 0;overflow: hidden;text-align: left;background-color: #f0f8ff;}#sk-container-id-12 div.sk-toggleable__content pre {margin: 0.2em;color: black;border-radius: 0.25em;background-color: #f0f8ff;}#sk-container-id-12 input.sk-toggleable__control:checked~div.sk-toggleable__content {max-height: 200px;max-width: 100%;overflow: auto;}#sk-container-id-12 input.sk-toggleable__control:checked~label.sk-toggleable__label-arrow:before {content: \"▾\";}#sk-container-id-12 div.sk-estimator input.sk-toggleable__control:checked~label.sk-toggleable__label {background-color: #d4ebff;}#sk-container-id-12 div.sk-label input.sk-toggleable__control:checked~label.sk-toggleable__label {background-color: #d4ebff;}#sk-container-id-12 input.sk-hidden--visually {border: 0;clip: rect(1px 1px 1px 1px);clip: rect(1px, 1px, 1px, 1px);height: 1px;margin: -1px;overflow: hidden;padding: 0;position: absolute;width: 1px;}#sk-container-id-12 div.sk-estimator {font-family: monospace;background-color: #f0f8ff;border: 1px dotted black;border-radius: 0.25em;box-sizing: border-box;margin-bottom: 0.5em;}#sk-container-id-12 div.sk-estimator:hover {background-color: #d4ebff;}#sk-container-id-12 div.sk-parallel-item::after {content: \"\";width: 100%;border-bottom: 1px solid gray;flex-grow: 1;}#sk-container-id-12 div.sk-label:hover label.sk-toggleable__label {background-color: #d4ebff;}#sk-container-id-12 div.sk-serial::before {content: \"\";position: absolute;border-left: 1px solid gray;box-sizing: border-box;top: 0;bottom: 0;left: 50%;z-index: 0;}#sk-container-id-12 div.sk-serial {display: flex;flex-direction: column;align-items: center;background-color: white;padding-right: 0.2em;padding-left: 0.2em;position: relative;}#sk-container-id-12 div.sk-item {position: relative;z-index: 1;}#sk-container-id-12 div.sk-parallel {display: flex;align-items: stretch;justify-content: center;background-color: white;position: relative;}#sk-container-id-12 div.sk-item::before, #sk-container-id-12 div.sk-parallel-item::before {content: \"\";position: absolute;border-left: 1px solid gray;box-sizing: border-box;top: 0;bottom: 0;left: 50%;z-index: -1;}#sk-container-id-12 div.sk-parallel-item {display: flex;flex-direction: column;z-index: 1;position: relative;background-color: white;}#sk-container-id-12 div.sk-parallel-item:first-child::after {align-self: flex-end;width: 50%;}#sk-container-id-12 div.sk-parallel-item:last-child::after {align-self: flex-start;width: 50%;}#sk-container-id-12 div.sk-parallel-item:only-child::after {width: 0;}#sk-container-id-12 div.sk-dashed-wrapped {border: 1px dashed gray;margin: 0 0.4em 0.5em 0.4em;box-sizing: border-box;padding-bottom: 0.4em;background-color: white;}#sk-container-id-12 div.sk-label label {font-family: monospace;font-weight: bold;display: inline-block;line-height: 1.2em;}#sk-container-id-12 div.sk-label-container {text-align: center;}#sk-container-id-12 div.sk-container {/* jupyter's `normalize.less` sets `[hidden] { display: none; }` but bootstrap.min.css set `[hidden] { display: none !important; }` so we also need the `!important` here to be able to override the default hidden behavior on the sphinx rendered scikit-learn.org. See: https://github.com/scikit-learn/scikit-learn/issues/21755 */display: inline-block !important;position: relative;}#sk-container-id-12 div.sk-text-repr-fallback {display: none;}</style><div id=\"sk-container-id-12\" class=\"sk-top-container\"><div class=\"sk-text-repr-fallback\"><pre>KMeans(n_clusters=7)</pre><b>In a Jupyter environment, please rerun this cell to show the HTML representation or trust the notebook. <br />On GitHub, the HTML representation is unable to render, please try loading this page with nbviewer.org.</b></div><div class=\"sk-container\" hidden><div class=\"sk-item\"><div class=\"sk-estimator sk-toggleable\"><input class=\"sk-toggleable__control sk-hidden--visually\" id=\"sk-estimator-id-12\" type=\"checkbox\" checked><label for=\"sk-estimator-id-12\" class=\"sk-toggleable__label sk-toggleable__label-arrow\">KMeans</label><div class=\"sk-toggleable__content\"><pre>KMeans(n_clusters=7)</pre></div></div></div></div></div>"
            ]
          },
          "metadata": {},
          "execution_count": 130
        }
      ]
    },
    {
      "cell_type": "code",
      "source": [
        "X_train_df = pd.DataFrame(X_train)\n",
        "\n",
        "\n",
        "X_train_df['Predicted_Cluster'] = kmeans.predict(X_train)\n",
        "X_train = X_train_df.to_numpy()\n"
      ],
      "metadata": {
        "id": "9LOWxpV-6C-3"
      },
      "execution_count": 131,
      "outputs": []
    },
    {
      "cell_type": "code",
      "source": [
        "X_test_df = pd.DataFrame(X_test)\n",
        "X_test_df['Predicted_Cluster'] = kmeans.predict(X_test)\n",
        "X_test = X_test_df.to_numpy()"
      ],
      "metadata": {
        "id": "9nN3UY2v6TEW"
      },
      "execution_count": 132,
      "outputs": []
    },
    {
      "cell_type": "code",
      "source": [
        "max_depth= [1, 2, 3, 4, 5, 6, 7, 8, 9, 10, 11]\n",
        "\n",
        "Parameters={ 'max_depth': max_depth}"
      ],
      "metadata": {
        "id": "NZStySau6jFI"
      },
      "execution_count": 133,
      "outputs": []
    },
    {
      "cell_type": "code",
      "source": [
        "RF= RandomForestClassifier()\n",
        "GridSearch(RF, Parameters, X_train, Y_train)"
      ],
      "metadata": {
        "colab": {
          "base_uri": "https://localhost:8080/",
          "height": 75
        },
        "id": "7ocM12OQ64DV",
        "outputId": "9f088fca-276e-4311-d9e7-8ff25f5840dd"
      },
      "execution_count": 134,
      "outputs": [
        {
          "output_type": "execute_result",
          "data": {
            "text/plain": [
              "RandomForestClassifier(max_depth=10)"
            ],
            "text/html": [
              "<style>#sk-container-id-13 {color: black;background-color: white;}#sk-container-id-13 pre{padding: 0;}#sk-container-id-13 div.sk-toggleable {background-color: white;}#sk-container-id-13 label.sk-toggleable__label {cursor: pointer;display: block;width: 100%;margin-bottom: 0;padding: 0.3em;box-sizing: border-box;text-align: center;}#sk-container-id-13 label.sk-toggleable__label-arrow:before {content: \"▸\";float: left;margin-right: 0.25em;color: #696969;}#sk-container-id-13 label.sk-toggleable__label-arrow:hover:before {color: black;}#sk-container-id-13 div.sk-estimator:hover label.sk-toggleable__label-arrow:before {color: black;}#sk-container-id-13 div.sk-toggleable__content {max-height: 0;max-width: 0;overflow: hidden;text-align: left;background-color: #f0f8ff;}#sk-container-id-13 div.sk-toggleable__content pre {margin: 0.2em;color: black;border-radius: 0.25em;background-color: #f0f8ff;}#sk-container-id-13 input.sk-toggleable__control:checked~div.sk-toggleable__content {max-height: 200px;max-width: 100%;overflow: auto;}#sk-container-id-13 input.sk-toggleable__control:checked~label.sk-toggleable__label-arrow:before {content: \"▾\";}#sk-container-id-13 div.sk-estimator input.sk-toggleable__control:checked~label.sk-toggleable__label {background-color: #d4ebff;}#sk-container-id-13 div.sk-label input.sk-toggleable__control:checked~label.sk-toggleable__label {background-color: #d4ebff;}#sk-container-id-13 input.sk-hidden--visually {border: 0;clip: rect(1px 1px 1px 1px);clip: rect(1px, 1px, 1px, 1px);height: 1px;margin: -1px;overflow: hidden;padding: 0;position: absolute;width: 1px;}#sk-container-id-13 div.sk-estimator {font-family: monospace;background-color: #f0f8ff;border: 1px dotted black;border-radius: 0.25em;box-sizing: border-box;margin-bottom: 0.5em;}#sk-container-id-13 div.sk-estimator:hover {background-color: #d4ebff;}#sk-container-id-13 div.sk-parallel-item::after {content: \"\";width: 100%;border-bottom: 1px solid gray;flex-grow: 1;}#sk-container-id-13 div.sk-label:hover label.sk-toggleable__label {background-color: #d4ebff;}#sk-container-id-13 div.sk-serial::before {content: \"\";position: absolute;border-left: 1px solid gray;box-sizing: border-box;top: 0;bottom: 0;left: 50%;z-index: 0;}#sk-container-id-13 div.sk-serial {display: flex;flex-direction: column;align-items: center;background-color: white;padding-right: 0.2em;padding-left: 0.2em;position: relative;}#sk-container-id-13 div.sk-item {position: relative;z-index: 1;}#sk-container-id-13 div.sk-parallel {display: flex;align-items: stretch;justify-content: center;background-color: white;position: relative;}#sk-container-id-13 div.sk-item::before, #sk-container-id-13 div.sk-parallel-item::before {content: \"\";position: absolute;border-left: 1px solid gray;box-sizing: border-box;top: 0;bottom: 0;left: 50%;z-index: -1;}#sk-container-id-13 div.sk-parallel-item {display: flex;flex-direction: column;z-index: 1;position: relative;background-color: white;}#sk-container-id-13 div.sk-parallel-item:first-child::after {align-self: flex-end;width: 50%;}#sk-container-id-13 div.sk-parallel-item:last-child::after {align-self: flex-start;width: 50%;}#sk-container-id-13 div.sk-parallel-item:only-child::after {width: 0;}#sk-container-id-13 div.sk-dashed-wrapped {border: 1px dashed gray;margin: 0 0.4em 0.5em 0.4em;box-sizing: border-box;padding-bottom: 0.4em;background-color: white;}#sk-container-id-13 div.sk-label label {font-family: monospace;font-weight: bold;display: inline-block;line-height: 1.2em;}#sk-container-id-13 div.sk-label-container {text-align: center;}#sk-container-id-13 div.sk-container {/* jupyter's `normalize.less` sets `[hidden] { display: none; }` but bootstrap.min.css set `[hidden] { display: none !important; }` so we also need the `!important` here to be able to override the default hidden behavior on the sphinx rendered scikit-learn.org. See: https://github.com/scikit-learn/scikit-learn/issues/21755 */display: inline-block !important;position: relative;}#sk-container-id-13 div.sk-text-repr-fallback {display: none;}</style><div id=\"sk-container-id-13\" class=\"sk-top-container\"><div class=\"sk-text-repr-fallback\"><pre>RandomForestClassifier(max_depth=10)</pre><b>In a Jupyter environment, please rerun this cell to show the HTML representation or trust the notebook. <br />On GitHub, the HTML representation is unable to render, please try loading this page with nbviewer.org.</b></div><div class=\"sk-container\" hidden><div class=\"sk-item\"><div class=\"sk-estimator sk-toggleable\"><input class=\"sk-toggleable__control sk-hidden--visually\" id=\"sk-estimator-id-13\" type=\"checkbox\" checked><label for=\"sk-estimator-id-13\" class=\"sk-toggleable__label sk-toggleable__label-arrow\">RandomForestClassifier</label><div class=\"sk-toggleable__content\"><pre>RandomForestClassifier(max_depth=10)</pre></div></div></div></div></div>"
            ]
          },
          "metadata": {},
          "execution_count": 134
        }
      ]
    },
    {
      "cell_type": "code",
      "source": [
        "RF.fit(X_train, Y_train)"
      ],
      "metadata": {
        "colab": {
          "base_uri": "https://localhost:8080/",
          "height": 75
        },
        "id": "OkszwwU56-32",
        "outputId": "06e6ed89-08a4-4084-b4dc-fc85a8ae4f70"
      },
      "execution_count": 136,
      "outputs": [
        {
          "output_type": "execute_result",
          "data": {
            "text/plain": [
              "RandomForestClassifier()"
            ],
            "text/html": [
              "<style>#sk-container-id-15 {color: black;background-color: white;}#sk-container-id-15 pre{padding: 0;}#sk-container-id-15 div.sk-toggleable {background-color: white;}#sk-container-id-15 label.sk-toggleable__label {cursor: pointer;display: block;width: 100%;margin-bottom: 0;padding: 0.3em;box-sizing: border-box;text-align: center;}#sk-container-id-15 label.sk-toggleable__label-arrow:before {content: \"▸\";float: left;margin-right: 0.25em;color: #696969;}#sk-container-id-15 label.sk-toggleable__label-arrow:hover:before {color: black;}#sk-container-id-15 div.sk-estimator:hover label.sk-toggleable__label-arrow:before {color: black;}#sk-container-id-15 div.sk-toggleable__content {max-height: 0;max-width: 0;overflow: hidden;text-align: left;background-color: #f0f8ff;}#sk-container-id-15 div.sk-toggleable__content pre {margin: 0.2em;color: black;border-radius: 0.25em;background-color: #f0f8ff;}#sk-container-id-15 input.sk-toggleable__control:checked~div.sk-toggleable__content {max-height: 200px;max-width: 100%;overflow: auto;}#sk-container-id-15 input.sk-toggleable__control:checked~label.sk-toggleable__label-arrow:before {content: \"▾\";}#sk-container-id-15 div.sk-estimator input.sk-toggleable__control:checked~label.sk-toggleable__label {background-color: #d4ebff;}#sk-container-id-15 div.sk-label input.sk-toggleable__control:checked~label.sk-toggleable__label {background-color: #d4ebff;}#sk-container-id-15 input.sk-hidden--visually {border: 0;clip: rect(1px 1px 1px 1px);clip: rect(1px, 1px, 1px, 1px);height: 1px;margin: -1px;overflow: hidden;padding: 0;position: absolute;width: 1px;}#sk-container-id-15 div.sk-estimator {font-family: monospace;background-color: #f0f8ff;border: 1px dotted black;border-radius: 0.25em;box-sizing: border-box;margin-bottom: 0.5em;}#sk-container-id-15 div.sk-estimator:hover {background-color: #d4ebff;}#sk-container-id-15 div.sk-parallel-item::after {content: \"\";width: 100%;border-bottom: 1px solid gray;flex-grow: 1;}#sk-container-id-15 div.sk-label:hover label.sk-toggleable__label {background-color: #d4ebff;}#sk-container-id-15 div.sk-serial::before {content: \"\";position: absolute;border-left: 1px solid gray;box-sizing: border-box;top: 0;bottom: 0;left: 50%;z-index: 0;}#sk-container-id-15 div.sk-serial {display: flex;flex-direction: column;align-items: center;background-color: white;padding-right: 0.2em;padding-left: 0.2em;position: relative;}#sk-container-id-15 div.sk-item {position: relative;z-index: 1;}#sk-container-id-15 div.sk-parallel {display: flex;align-items: stretch;justify-content: center;background-color: white;position: relative;}#sk-container-id-15 div.sk-item::before, #sk-container-id-15 div.sk-parallel-item::before {content: \"\";position: absolute;border-left: 1px solid gray;box-sizing: border-box;top: 0;bottom: 0;left: 50%;z-index: -1;}#sk-container-id-15 div.sk-parallel-item {display: flex;flex-direction: column;z-index: 1;position: relative;background-color: white;}#sk-container-id-15 div.sk-parallel-item:first-child::after {align-self: flex-end;width: 50%;}#sk-container-id-15 div.sk-parallel-item:last-child::after {align-self: flex-start;width: 50%;}#sk-container-id-15 div.sk-parallel-item:only-child::after {width: 0;}#sk-container-id-15 div.sk-dashed-wrapped {border: 1px dashed gray;margin: 0 0.4em 0.5em 0.4em;box-sizing: border-box;padding-bottom: 0.4em;background-color: white;}#sk-container-id-15 div.sk-label label {font-family: monospace;font-weight: bold;display: inline-block;line-height: 1.2em;}#sk-container-id-15 div.sk-label-container {text-align: center;}#sk-container-id-15 div.sk-container {/* jupyter's `normalize.less` sets `[hidden] { display: none; }` but bootstrap.min.css set `[hidden] { display: none !important; }` so we also need the `!important` here to be able to override the default hidden behavior on the sphinx rendered scikit-learn.org. See: https://github.com/scikit-learn/scikit-learn/issues/21755 */display: inline-block !important;position: relative;}#sk-container-id-15 div.sk-text-repr-fallback {display: none;}</style><div id=\"sk-container-id-15\" class=\"sk-top-container\"><div class=\"sk-text-repr-fallback\"><pre>RandomForestClassifier()</pre><b>In a Jupyter environment, please rerun this cell to show the HTML representation or trust the notebook. <br />On GitHub, the HTML representation is unable to render, please try loading this page with nbviewer.org.</b></div><div class=\"sk-container\" hidden><div class=\"sk-item\"><div class=\"sk-estimator sk-toggleable\"><input class=\"sk-toggleable__control sk-hidden--visually\" id=\"sk-estimator-id-15\" type=\"checkbox\" checked><label for=\"sk-estimator-id-15\" class=\"sk-toggleable__label sk-toggleable__label-arrow\">RandomForestClassifier</label><div class=\"sk-toggleable__content\"><pre>RandomForestClassifier()</pre></div></div></div></div></div>"
            ]
          },
          "metadata": {},
          "execution_count": 136
        }
      ]
    },
    {
      "cell_type": "code",
      "source": [
        "RF.score(X_test, Y_test)"
      ],
      "metadata": {
        "colab": {
          "base_uri": "https://localhost:8080/"
        },
        "id": "ouRqR0u56_4Q",
        "outputId": "cab4a887-0c85-4f56-bd8c-7a5d0092ffa7"
      },
      "execution_count": 137,
      "outputs": [
        {
          "output_type": "execute_result",
          "data": {
            "text/plain": [
              "0.9409572816395333"
            ]
          },
          "metadata": {},
          "execution_count": 137
        }
      ]
    },
    {
      "cell_type": "code",
      "source": [
        "Evaluate('K Nearest neighbor', RF, X_test, Y_test)"
      ],
      "metadata": {
        "colab": {
          "base_uri": "https://localhost:8080/",
          "height": 726
        },
        "id": "gxRZXb0u7Dd-",
        "outputId": "557e585a-ed93-4d19-878e-2ad10620a1a7"
      },
      "execution_count": 138,
      "outputs": [
        {
          "output_type": "stream",
          "name": "stdout",
          "text": [
            "--------------------------------------------------\n",
            "\n",
            "The K Nearest neighbor Model Accuracy   = 0.941\n",
            "\n",
            "The K Nearest neighbor Model Sensitvity = 0.915\n",
            "\n",
            "The K Nearest neighbor Model Precision  = 0.979\n",
            "\n",
            "The K Nearest neighbor Model F1 Score   = 0.946\n",
            "\n",
            "The K Nearest neighbor Model Recall     = 0.915\n",
            "\n",
            "--------------------------------------------------\n",
            "\n"
          ]
        },
        {
          "output_type": "display_data",
          "data": {
            "text/plain": [
              "<Figure size 555x500 with 2 Axes>"
            ],
            "image/png": "[encoded data removed]"
          },
          "metadata": {}
        }
      ]
    },
    {
      "cell_type": "code",
      "source": [
        "import numpy as np\n",
        "from sklearn.metrics import confusion_matrix\n",
        "import pandas as pd\n",
        "\n",
        "cm = confusion_matrix(Y_test, RF.predict(X_test))\n",
        "\n",
        "cm_norm = cm.astype('float') / cm.sum(axis=1)[:, np.newaxis]\n",
        "\n",
        "cm_df = pd.DataFrame(cm_norm, columns=['Normal', 'Attack'], index=['Normal', 'Attack'])\n",
        "\n",
        "print(cm_df)"
      ],
      "metadata": {
        "colab": {
          "base_uri": "https://localhost:8080/"
        },
        "id": "vqW2k6ZS74uM",
        "outputId": "989d80b4-d3d8-429e-e2bb-21dde941bb47"
      },
      "execution_count": 139,
      "outputs": [
        {
          "output_type": "stream",
          "name": "stdout",
          "text": [
            "          Normal    Attack\n",
            "Normal  0.974668  0.025332\n",
            "Attack  0.084554  0.915446\n"
          ]
        }
      ]
    },
    {
      "cell_type": "markdown",
      "source": [
        "with out kmean\n",
        "\n",
        "          Normal    Attack\n",
        "Normal  0.974771  0.025229\n",
        "Attack  0.049875  0.950125"
      ],
      "metadata": {
        "id": "0eVczwFdBP-z"
      }
    },
    {
      "cell_type": "code",
      "source": [
        "Linear_SVC = svm.LinearSVC(C=1)\n",
        "Linear_SVC.fit(X_train, Y_train)"
      ],
      "metadata": {
        "colab": {
          "base_uri": "https://localhost:8080/",
          "height": 75
        },
        "id": "nJcTp-K7BUcs",
        "outputId": "3fa7a475-cccb-467f-b947-293957d74724"
      },
      "execution_count": 78,
      "outputs": [
        {
          "output_type": "execute_result",
          "data": {
            "text/plain": [
              "LinearSVC(C=1)"
            ],
            "text/html": [
              "<style>#sk-container-id-7 {color: black;background-color: white;}#sk-container-id-7 pre{padding: 0;}#sk-container-id-7 div.sk-toggleable {background-color: white;}#sk-container-id-7 label.sk-toggleable__label {cursor: pointer;display: block;width: 100%;margin-bottom: 0;padding: 0.3em;box-sizing: border-box;text-align: center;}#sk-container-id-7 label.sk-toggleable__label-arrow:before {content: \"▸\";float: left;margin-right: 0.25em;color: #696969;}#sk-container-id-7 label.sk-toggleable__label-arrow:hover:before {color: black;}#sk-container-id-7 div.sk-estimator:hover label.sk-toggleable__label-arrow:before {color: black;}#sk-container-id-7 div.sk-toggleable__content {max-height: 0;max-width: 0;overflow: hidden;text-align: left;background-color: #f0f8ff;}#sk-container-id-7 div.sk-toggleable__content pre {margin: 0.2em;color: black;border-radius: 0.25em;background-color: #f0f8ff;}#sk-container-id-7 input.sk-toggleable__control:checked~div.sk-toggleable__content {max-height: 200px;max-width: 100%;overflow: auto;}#sk-container-id-7 input.sk-toggleable__control:checked~label.sk-toggleable__label-arrow:before {content: \"▾\";}#sk-container-id-7 div.sk-estimator input.sk-toggleable__control:checked~label.sk-toggleable__label {background-color: #d4ebff;}#sk-container-id-7 div.sk-label input.sk-toggleable__control:checked~label.sk-toggleable__label {background-color: #d4ebff;}#sk-container-id-7 input.sk-hidden--visually {border: 0;clip: rect(1px 1px 1px 1px);clip: rect(1px, 1px, 1px, 1px);height: 1px;margin: -1px;overflow: hidden;padding: 0;position: absolute;width: 1px;}#sk-container-id-7 div.sk-estimator {font-family: monospace;background-color: #f0f8ff;border: 1px dotted black;border-radius: 0.25em;box-sizing: border-box;margin-bottom: 0.5em;}#sk-container-id-7 div.sk-estimator:hover {background-color: #d4ebff;}#sk-container-id-7 div.sk-parallel-item::after {content: \"\";width: 100%;border-bottom: 1px solid gray;flex-grow: 1;}#sk-container-id-7 div.sk-label:hover label.sk-toggleable__label {background-color: #d4ebff;}#sk-container-id-7 div.sk-serial::before {content: \"\";position: absolute;border-left: 1px solid gray;box-sizing: border-box;top: 0;bottom: 0;left: 50%;z-index: 0;}#sk-container-id-7 div.sk-serial {display: flex;flex-direction: column;align-items: center;background-color: white;padding-right: 0.2em;padding-left: 0.2em;position: relative;}#sk-container-id-7 div.sk-item {position: relative;z-index: 1;}#sk-container-id-7 div.sk-parallel {display: flex;align-items: stretch;justify-content: center;background-color: white;position: relative;}#sk-container-id-7 div.sk-item::before, #sk-container-id-7 div.sk-parallel-item::before {content: \"\";position: absolute;border-left: 1px solid gray;box-sizing: border-box;top: 0;bottom: 0;left: 50%;z-index: -1;}#sk-container-id-7 div.sk-parallel-item {display: flex;flex-direction: column;z-index: 1;position: relative;background-color: white;}#sk-container-id-7 div.sk-parallel-item:first-child::after {align-self: flex-end;width: 50%;}#sk-container-id-7 div.sk-parallel-item:last-child::after {align-self: flex-start;width: 50%;}#sk-container-id-7 div.sk-parallel-item:only-child::after {width: 0;}#sk-container-id-7 div.sk-dashed-wrapped {border: 1px dashed gray;margin: 0 0.4em 0.5em 0.4em;box-sizing: border-box;padding-bottom: 0.4em;background-color: white;}#sk-container-id-7 div.sk-label label {font-family: monospace;font-weight: bold;display: inline-block;line-height: 1.2em;}#sk-container-id-7 div.sk-label-container {text-align: center;}#sk-container-id-7 div.sk-container {/* jupyter's `normalize.less` sets `[hidden] { display: none; }` but bootstrap.min.css set `[hidden] { display: none !important; }` so we also need the `!important` here to be able to override the default hidden behavior on the sphinx rendered scikit-learn.org. See: https://github.com/scikit-learn/scikit-learn/issues/21755 */display: inline-block !important;position: relative;}#sk-container-id-7 div.sk-text-repr-fallback {display: none;}</style><div id=\"sk-container-id-7\" class=\"sk-top-container\"><div class=\"sk-text-repr-fallback\"><pre>LinearSVC(C=1)</pre><b>In a Jupyter environment, please rerun this cell to show the HTML representation or trust the notebook. <br />On GitHub, the HTML representation is unable to render, please try loading this page with nbviewer.org.</b></div><div class=\"sk-container\" hidden><div class=\"sk-item\"><div class=\"sk-estimator sk-toggleable\"><input class=\"sk-toggleable__control sk-hidden--visually\" id=\"sk-estimator-id-7\" type=\"checkbox\" checked><label for=\"sk-estimator-id-7\" class=\"sk-toggleable__label sk-toggleable__label-arrow\">LinearSVC</label><div class=\"sk-toggleable__content\"><pre>LinearSVC(C=1)</pre></div></div></div></div></div>"
            ]
          },
          "metadata": {},
          "execution_count": 78
        }
      ]
    },
    {
      "cell_type": "code",
      "source": [
        "Evaluate('Linear SVC', Linear_SVC, X_test, Y_test)"
      ],
      "metadata": {
        "colab": {
          "base_uri": "https://localhost:8080/",
          "height": 726
        },
        "id": "tab3mpyuBYRl",
        "outputId": "31643fb2-0024-44af-fa81-6ab54b31baca"
      },
      "execution_count": 80,
      "outputs": [
        {
          "output_type": "stream",
          "name": "stdout",
          "text": [
            "--------------------------------------------------\n",
            "\n",
            "The Linear SVC Model Accuracy   = 0.858\n",
            "\n",
            "The Linear SVC Model Sensitvity = 0.825\n",
            "\n",
            "The Linear SVC Model Precision  = 0.917\n",
            "\n",
            "The Linear SVC Model F1 Score   = 0.869\n",
            "\n",
            "The Linear SVC Model Recall     = 0.825\n",
            "\n",
            "--------------------------------------------------\n",
            "\n"
          ]
        },
        {
          "output_type": "display_data",
          "data": {
            "text/plain": [
              "<Figure size 555x500 with 2 Axes>"
            ],
            "image/png": "[encoded data removed]"
          },
          "metadata": {}
        }
      ]
    },
    {
      "cell_type": "code",
      "source": [
        "import numpy as np\n",
        "from sklearn.metrics import confusion_matrix\n",
        "import pandas as pd\n",
        "\n",
        "cm = confusion_matrix(Y_test, Linear_SVC.predict(X_test))\n",
        "\n",
        "cm_norm = cm.astype('float') / cm.sum(axis=1)[:, np.newaxis]\n",
        "\n",
        "cm_df = pd.DataFrame(cm_norm, columns=['Normal', 'Attack'], index=['Normal', 'Attack'])\n",
        "\n",
        "print(cm_df)"
      ],
      "metadata": {
        "colab": {
          "base_uri": "https://localhost:8080/"
        },
        "id": "miVZjqJhBhFX",
        "outputId": "2861048f-17e9-43f2-ac53-0e812ceca53e"
      },
      "execution_count": 79,
      "outputs": [
        {
          "output_type": "stream",
          "name": "stdout",
          "text": [
            "          Normal    Attack\n",
            "Normal  0.901761  0.098239\n",
            "Attack  0.175343  0.824657\n"
          ]
        }
      ]
    },
    {
      "cell_type": "code",
      "source": [
        "          Normal    Attack\n",
        "Normal  0.904541  0.095459\n",
        "Attack  0.199423  0.800577"
      ],
      "metadata": {
        "id": "toHgjGLLBrR5"
      },
      "execution_count": null,
      "outputs": []
    }
  ]
}